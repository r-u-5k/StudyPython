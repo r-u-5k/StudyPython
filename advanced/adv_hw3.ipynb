{
 "cells": [
  {
   "cell_type": "code",
   "id": "initial_id",
   "metadata": {
    "collapsed": true,
    "ExecuteTime": {
     "end_time": "2024-09-25T04:58:04.314823Z",
     "start_time": "2024-09-25T04:58:04.302749Z"
    }
   },
   "source": [
    "import numpy as np\n",
    "import pandas as pd"
   ],
   "outputs": [],
   "execution_count": 20
  },
  {
   "metadata": {
    "ExecuteTime": {
     "end_time": "2024-09-25T04:58:04.330658Z",
     "start_time": "2024-09-25T04:58:04.318625Z"
    }
   },
   "cell_type": "code",
   "source": [
    "s = pd.Series([1, 3, 5, np.nan, 6, 8])\n",
    "s"
   ],
   "id": "f55366cc286bdb18",
   "outputs": [
    {
     "data": {
      "text/plain": [
       "0    1.0\n",
       "1    3.0\n",
       "2    5.0\n",
       "3    NaN\n",
       "4    6.0\n",
       "5    8.0\n",
       "dtype: float64"
      ]
     },
     "execution_count": 21,
     "metadata": {},
     "output_type": "execute_result"
    }
   ],
   "execution_count": 21
  },
  {
   "metadata": {
    "ExecuteTime": {
     "end_time": "2024-09-25T04:58:04.345622Z",
     "start_time": "2024-09-25T04:58:04.332676Z"
    }
   },
   "cell_type": "code",
   "source": [
    "dates = pd.date_range(\"20130101\", periods=6)\n",
    "dates"
   ],
   "id": "a329a881c3438e89",
   "outputs": [
    {
     "data": {
      "text/plain": [
       "DatetimeIndex(['2013-01-01', '2013-01-02', '2013-01-03', '2013-01-04',\n",
       "               '2013-01-05', '2013-01-06'],\n",
       "              dtype='datetime64[ns]', freq='D')"
      ]
     },
     "execution_count": 22,
     "metadata": {},
     "output_type": "execute_result"
    }
   ],
   "execution_count": 22
  },
  {
   "metadata": {
    "ExecuteTime": {
     "end_time": "2024-09-25T04:58:04.361639Z",
     "start_time": "2024-09-25T04:58:04.346623Z"
    }
   },
   "cell_type": "code",
   "source": [
    "df = pd.DataFrame(np.random.randn(6, 4), index=dates, columns=list(\"ABCD\"))\n",
    "df"
   ],
   "id": "22891de1bdb26050",
   "outputs": [
    {
     "data": {
      "text/plain": [
       "                   A         B         C         D\n",
       "2013-01-01  0.073775  1.802566  0.549830  0.044160\n",
       "2013-01-02  0.728844 -1.356209  0.041041  0.373683\n",
       "2013-01-03 -1.293694 -0.984940  0.150090  0.287151\n",
       "2013-01-04 -0.009731 -1.012103  1.713468  1.621567\n",
       "2013-01-05 -0.044049 -0.351983  0.045208 -1.507044\n",
       "2013-01-06 -0.132429 -0.334470 -0.899580  0.194614"
      ],
      "text/html": [
       "<div>\n",
       "<style scoped>\n",
       "    .dataframe tbody tr th:only-of-type {\n",
       "        vertical-align: middle;\n",
       "    }\n",
       "\n",
       "    .dataframe tbody tr th {\n",
       "        vertical-align: top;\n",
       "    }\n",
       "\n",
       "    .dataframe thead th {\n",
       "        text-align: right;\n",
       "    }\n",
       "</style>\n",
       "<table border=\"1\" class=\"dataframe\">\n",
       "  <thead>\n",
       "    <tr style=\"text-align: right;\">\n",
       "      <th></th>\n",
       "      <th>A</th>\n",
       "      <th>B</th>\n",
       "      <th>C</th>\n",
       "      <th>D</th>\n",
       "    </tr>\n",
       "  </thead>\n",
       "  <tbody>\n",
       "    <tr>\n",
       "      <th>2013-01-01</th>\n",
       "      <td>0.073775</td>\n",
       "      <td>1.802566</td>\n",
       "      <td>0.549830</td>\n",
       "      <td>0.044160</td>\n",
       "    </tr>\n",
       "    <tr>\n",
       "      <th>2013-01-02</th>\n",
       "      <td>0.728844</td>\n",
       "      <td>-1.356209</td>\n",
       "      <td>0.041041</td>\n",
       "      <td>0.373683</td>\n",
       "    </tr>\n",
       "    <tr>\n",
       "      <th>2013-01-03</th>\n",
       "      <td>-1.293694</td>\n",
       "      <td>-0.984940</td>\n",
       "      <td>0.150090</td>\n",
       "      <td>0.287151</td>\n",
       "    </tr>\n",
       "    <tr>\n",
       "      <th>2013-01-04</th>\n",
       "      <td>-0.009731</td>\n",
       "      <td>-1.012103</td>\n",
       "      <td>1.713468</td>\n",
       "      <td>1.621567</td>\n",
       "    </tr>\n",
       "    <tr>\n",
       "      <th>2013-01-05</th>\n",
       "      <td>-0.044049</td>\n",
       "      <td>-0.351983</td>\n",
       "      <td>0.045208</td>\n",
       "      <td>-1.507044</td>\n",
       "    </tr>\n",
       "    <tr>\n",
       "      <th>2013-01-06</th>\n",
       "      <td>-0.132429</td>\n",
       "      <td>-0.334470</td>\n",
       "      <td>-0.899580</td>\n",
       "      <td>0.194614</td>\n",
       "    </tr>\n",
       "  </tbody>\n",
       "</table>\n",
       "</div>"
      ]
     },
     "execution_count": 23,
     "metadata": {},
     "output_type": "execute_result"
    }
   ],
   "execution_count": 23
  },
  {
   "metadata": {
    "ExecuteTime": {
     "end_time": "2024-09-25T04:58:04.392186Z",
     "start_time": "2024-09-25T04:58:04.364625Z"
    }
   },
   "cell_type": "code",
   "source": [
    "df2 = pd.DataFrame(\n",
    "    {\n",
    "        \"A\": 1.0,\n",
    "        \"B\": pd.Timestamp(\"20130102\"),\n",
    "        \"C\": pd.Series(1, index=list(range(4)), dtype=\"float32\"),\n",
    "        \"D\": np.array([3] * 4, dtype=\"int32\"),\n",
    "        \"E\": pd.Categorical([\"test\", \"train\", \"test\", \"train\"]),\n",
    "        \"F\": \"foo\",\n",
    "    }\n",
    ")\n",
    "df2"
   ],
   "id": "be1a63347848ad69",
   "outputs": [
    {
     "data": {
      "text/plain": [
       "     A          B    C  D      E    F\n",
       "0  1.0 2013-01-02  1.0  3   test  foo\n",
       "1  1.0 2013-01-02  1.0  3  train  foo\n",
       "2  1.0 2013-01-02  1.0  3   test  foo\n",
       "3  1.0 2013-01-02  1.0  3  train  foo"
      ],
      "text/html": [
       "<div>\n",
       "<style scoped>\n",
       "    .dataframe tbody tr th:only-of-type {\n",
       "        vertical-align: middle;\n",
       "    }\n",
       "\n",
       "    .dataframe tbody tr th {\n",
       "        vertical-align: top;\n",
       "    }\n",
       "\n",
       "    .dataframe thead th {\n",
       "        text-align: right;\n",
       "    }\n",
       "</style>\n",
       "<table border=\"1\" class=\"dataframe\">\n",
       "  <thead>\n",
       "    <tr style=\"text-align: right;\">\n",
       "      <th></th>\n",
       "      <th>A</th>\n",
       "      <th>B</th>\n",
       "      <th>C</th>\n",
       "      <th>D</th>\n",
       "      <th>E</th>\n",
       "      <th>F</th>\n",
       "    </tr>\n",
       "  </thead>\n",
       "  <tbody>\n",
       "    <tr>\n",
       "      <th>0</th>\n",
       "      <td>1.0</td>\n",
       "      <td>2013-01-02</td>\n",
       "      <td>1.0</td>\n",
       "      <td>3</td>\n",
       "      <td>test</td>\n",
       "      <td>foo</td>\n",
       "    </tr>\n",
       "    <tr>\n",
       "      <th>1</th>\n",
       "      <td>1.0</td>\n",
       "      <td>2013-01-02</td>\n",
       "      <td>1.0</td>\n",
       "      <td>3</td>\n",
       "      <td>train</td>\n",
       "      <td>foo</td>\n",
       "    </tr>\n",
       "    <tr>\n",
       "      <th>2</th>\n",
       "      <td>1.0</td>\n",
       "      <td>2013-01-02</td>\n",
       "      <td>1.0</td>\n",
       "      <td>3</td>\n",
       "      <td>test</td>\n",
       "      <td>foo</td>\n",
       "    </tr>\n",
       "    <tr>\n",
       "      <th>3</th>\n",
       "      <td>1.0</td>\n",
       "      <td>2013-01-02</td>\n",
       "      <td>1.0</td>\n",
       "      <td>3</td>\n",
       "      <td>train</td>\n",
       "      <td>foo</td>\n",
       "    </tr>\n",
       "  </tbody>\n",
       "</table>\n",
       "</div>"
      ]
     },
     "execution_count": 24,
     "metadata": {},
     "output_type": "execute_result"
    }
   ],
   "execution_count": 24
  },
  {
   "metadata": {
    "ExecuteTime": {
     "end_time": "2024-09-25T04:58:04.408186Z",
     "start_time": "2024-09-25T04:58:04.394171Z"
    }
   },
   "cell_type": "code",
   "source": "df2.dtypes",
   "id": "63098e7c5c3b6b4e",
   "outputs": [
    {
     "data": {
      "text/plain": [
       "A          float64\n",
       "B    datetime64[s]\n",
       "C          float32\n",
       "D            int32\n",
       "E         category\n",
       "F           object\n",
       "dtype: object"
      ]
     },
     "execution_count": 25,
     "metadata": {},
     "output_type": "execute_result"
    }
   ],
   "execution_count": 25
  },
  {
   "metadata": {
    "ExecuteTime": {
     "end_time": "2024-09-25T04:58:04.423170Z",
     "start_time": "2024-09-25T04:58:04.409170Z"
    }
   },
   "cell_type": "code",
   "source": "df.head()",
   "id": "59f95f80777729f2",
   "outputs": [
    {
     "data": {
      "text/plain": [
       "                   A         B         C         D\n",
       "2013-01-01  0.073775  1.802566  0.549830  0.044160\n",
       "2013-01-02  0.728844 -1.356209  0.041041  0.373683\n",
       "2013-01-03 -1.293694 -0.984940  0.150090  0.287151\n",
       "2013-01-04 -0.009731 -1.012103  1.713468  1.621567\n",
       "2013-01-05 -0.044049 -0.351983  0.045208 -1.507044"
      ],
      "text/html": [
       "<div>\n",
       "<style scoped>\n",
       "    .dataframe tbody tr th:only-of-type {\n",
       "        vertical-align: middle;\n",
       "    }\n",
       "\n",
       "    .dataframe tbody tr th {\n",
       "        vertical-align: top;\n",
       "    }\n",
       "\n",
       "    .dataframe thead th {\n",
       "        text-align: right;\n",
       "    }\n",
       "</style>\n",
       "<table border=\"1\" class=\"dataframe\">\n",
       "  <thead>\n",
       "    <tr style=\"text-align: right;\">\n",
       "      <th></th>\n",
       "      <th>A</th>\n",
       "      <th>B</th>\n",
       "      <th>C</th>\n",
       "      <th>D</th>\n",
       "    </tr>\n",
       "  </thead>\n",
       "  <tbody>\n",
       "    <tr>\n",
       "      <th>2013-01-01</th>\n",
       "      <td>0.073775</td>\n",
       "      <td>1.802566</td>\n",
       "      <td>0.549830</td>\n",
       "      <td>0.044160</td>\n",
       "    </tr>\n",
       "    <tr>\n",
       "      <th>2013-01-02</th>\n",
       "      <td>0.728844</td>\n",
       "      <td>-1.356209</td>\n",
       "      <td>0.041041</td>\n",
       "      <td>0.373683</td>\n",
       "    </tr>\n",
       "    <tr>\n",
       "      <th>2013-01-03</th>\n",
       "      <td>-1.293694</td>\n",
       "      <td>-0.984940</td>\n",
       "      <td>0.150090</td>\n",
       "      <td>0.287151</td>\n",
       "    </tr>\n",
       "    <tr>\n",
       "      <th>2013-01-04</th>\n",
       "      <td>-0.009731</td>\n",
       "      <td>-1.012103</td>\n",
       "      <td>1.713468</td>\n",
       "      <td>1.621567</td>\n",
       "    </tr>\n",
       "    <tr>\n",
       "      <th>2013-01-05</th>\n",
       "      <td>-0.044049</td>\n",
       "      <td>-0.351983</td>\n",
       "      <td>0.045208</td>\n",
       "      <td>-1.507044</td>\n",
       "    </tr>\n",
       "  </tbody>\n",
       "</table>\n",
       "</div>"
      ]
     },
     "execution_count": 26,
     "metadata": {},
     "output_type": "execute_result"
    }
   ],
   "execution_count": 26
  },
  {
   "metadata": {
    "ExecuteTime": {
     "end_time": "2024-09-25T04:58:04.439192Z",
     "start_time": "2024-09-25T04:58:04.425171Z"
    }
   },
   "cell_type": "code",
   "source": "df.tail(3)",
   "id": "fd9a4afdd9349aec",
   "outputs": [
    {
     "data": {
      "text/plain": [
       "                   A         B         C         D\n",
       "2013-01-04 -0.009731 -1.012103  1.713468  1.621567\n",
       "2013-01-05 -0.044049 -0.351983  0.045208 -1.507044\n",
       "2013-01-06 -0.132429 -0.334470 -0.899580  0.194614"
      ],
      "text/html": [
       "<div>\n",
       "<style scoped>\n",
       "    .dataframe tbody tr th:only-of-type {\n",
       "        vertical-align: middle;\n",
       "    }\n",
       "\n",
       "    .dataframe tbody tr th {\n",
       "        vertical-align: top;\n",
       "    }\n",
       "\n",
       "    .dataframe thead th {\n",
       "        text-align: right;\n",
       "    }\n",
       "</style>\n",
       "<table border=\"1\" class=\"dataframe\">\n",
       "  <thead>\n",
       "    <tr style=\"text-align: right;\">\n",
       "      <th></th>\n",
       "      <th>A</th>\n",
       "      <th>B</th>\n",
       "      <th>C</th>\n",
       "      <th>D</th>\n",
       "    </tr>\n",
       "  </thead>\n",
       "  <tbody>\n",
       "    <tr>\n",
       "      <th>2013-01-04</th>\n",
       "      <td>-0.009731</td>\n",
       "      <td>-1.012103</td>\n",
       "      <td>1.713468</td>\n",
       "      <td>1.621567</td>\n",
       "    </tr>\n",
       "    <tr>\n",
       "      <th>2013-01-05</th>\n",
       "      <td>-0.044049</td>\n",
       "      <td>-0.351983</td>\n",
       "      <td>0.045208</td>\n",
       "      <td>-1.507044</td>\n",
       "    </tr>\n",
       "    <tr>\n",
       "      <th>2013-01-06</th>\n",
       "      <td>-0.132429</td>\n",
       "      <td>-0.334470</td>\n",
       "      <td>-0.899580</td>\n",
       "      <td>0.194614</td>\n",
       "    </tr>\n",
       "  </tbody>\n",
       "</table>\n",
       "</div>"
      ]
     },
     "execution_count": 27,
     "metadata": {},
     "output_type": "execute_result"
    }
   ],
   "execution_count": 27
  },
  {
   "metadata": {
    "ExecuteTime": {
     "end_time": "2024-09-25T04:58:04.454189Z",
     "start_time": "2024-09-25T04:58:04.440170Z"
    }
   },
   "cell_type": "code",
   "source": "df.index",
   "id": "5da70672022b60cd",
   "outputs": [
    {
     "data": {
      "text/plain": [
       "DatetimeIndex(['2013-01-01', '2013-01-02', '2013-01-03', '2013-01-04',\n",
       "               '2013-01-05', '2013-01-06'],\n",
       "              dtype='datetime64[ns]', freq='D')"
      ]
     },
     "execution_count": 28,
     "metadata": {},
     "output_type": "execute_result"
    }
   ],
   "execution_count": 28
  },
  {
   "metadata": {
    "ExecuteTime": {
     "end_time": "2024-09-25T04:58:13.380516Z",
     "start_time": "2024-09-25T04:58:13.372496Z"
    }
   },
   "cell_type": "code",
   "source": "df.columns",
   "id": "f663554debad8e5e",
   "outputs": [
    {
     "data": {
      "text/plain": [
       "Index(['A', 'B', 'C', 'D'], dtype='object')"
      ]
     },
     "execution_count": 29,
     "metadata": {},
     "output_type": "execute_result"
    }
   ],
   "execution_count": 29
  },
  {
   "metadata": {
    "ExecuteTime": {
     "end_time": "2024-09-25T04:58:25.583912Z",
     "start_time": "2024-09-25T04:58:25.576911Z"
    }
   },
   "cell_type": "code",
   "source": "df.to_numpy()",
   "id": "e8c302a1d1bd630c",
   "outputs": [
    {
     "data": {
      "text/plain": [
       "array([[ 0.07377461,  1.80256586,  0.54983047,  0.04416049],\n",
       "       [ 0.72884364, -1.35620947,  0.04104092,  0.37368287],\n",
       "       [-1.293694  , -0.98493983,  0.1500895 ,  0.28715106],\n",
       "       [-0.00973119, -1.01210336,  1.71346807,  1.62156702],\n",
       "       [-0.044049  , -0.35198295,  0.04520806, -1.50704373],\n",
       "       [-0.1324294 , -0.33447018, -0.89958005,  0.19461383]])"
      ]
     },
     "execution_count": 30,
     "metadata": {},
     "output_type": "execute_result"
    }
   ],
   "execution_count": 30
  },
  {
   "metadata": {
    "ExecuteTime": {
     "end_time": "2024-09-25T05:00:09.263949Z",
     "start_time": "2024-09-25T05:00:09.251948Z"
    }
   },
   "cell_type": "code",
   "source": "df2.dtypes",
   "id": "b57a63e62729c445",
   "outputs": [
    {
     "data": {
      "text/plain": [
       "A          float64\n",
       "B    datetime64[s]\n",
       "C          float32\n",
       "D            int32\n",
       "E         category\n",
       "F           object\n",
       "dtype: object"
      ]
     },
     "execution_count": 31,
     "metadata": {},
     "output_type": "execute_result"
    }
   ],
   "execution_count": 31
  },
  {
   "metadata": {
    "ExecuteTime": {
     "end_time": "2024-09-25T05:00:26.060725Z",
     "start_time": "2024-09-25T05:00:26.048723Z"
    }
   },
   "cell_type": "code",
   "source": "df2.to_numpy()",
   "id": "936f3e8040b481c7",
   "outputs": [
    {
     "data": {
      "text/plain": [
       "array([[1.0, Timestamp('2013-01-02 00:00:00'), 1.0, 3, 'test', 'foo'],\n",
       "       [1.0, Timestamp('2013-01-02 00:00:00'), 1.0, 3, 'train', 'foo'],\n",
       "       [1.0, Timestamp('2013-01-02 00:00:00'), 1.0, 3, 'test', 'foo'],\n",
       "       [1.0, Timestamp('2013-01-02 00:00:00'), 1.0, 3, 'train', 'foo']],\n",
       "      dtype=object)"
      ]
     },
     "execution_count": 32,
     "metadata": {},
     "output_type": "execute_result"
    }
   ],
   "execution_count": 32
  },
  {
   "metadata": {
    "ExecuteTime": {
     "end_time": "2024-09-25T05:00:43.748744Z",
     "start_time": "2024-09-25T05:00:43.729641Z"
    }
   },
   "cell_type": "code",
   "source": "df.describe()",
   "id": "276a61904fd449e9",
   "outputs": [
    {
     "data": {
      "text/plain": [
       "              A         B         C         D\n",
       "count  6.000000  6.000000  6.000000  6.000000\n",
       "mean  -0.112881 -0.372857  0.266676  0.169022\n",
       "std    0.656265  1.138827  0.854060  0.999117\n",
       "min   -1.293694 -1.356209 -0.899580 -1.507044\n",
       "25%   -0.110334 -1.005312  0.042083  0.081774\n",
       "50%   -0.026890 -0.668461  0.097649  0.240882\n",
       "75%    0.052898 -0.338848  0.449895  0.352050\n",
       "max    0.728844  1.802566  1.713468  1.621567"
      ],
      "text/html": [
       "<div>\n",
       "<style scoped>\n",
       "    .dataframe tbody tr th:only-of-type {\n",
       "        vertical-align: middle;\n",
       "    }\n",
       "\n",
       "    .dataframe tbody tr th {\n",
       "        vertical-align: top;\n",
       "    }\n",
       "\n",
       "    .dataframe thead th {\n",
       "        text-align: right;\n",
       "    }\n",
       "</style>\n",
       "<table border=\"1\" class=\"dataframe\">\n",
       "  <thead>\n",
       "    <tr style=\"text-align: right;\">\n",
       "      <th></th>\n",
       "      <th>A</th>\n",
       "      <th>B</th>\n",
       "      <th>C</th>\n",
       "      <th>D</th>\n",
       "    </tr>\n",
       "  </thead>\n",
       "  <tbody>\n",
       "    <tr>\n",
       "      <th>count</th>\n",
       "      <td>6.000000</td>\n",
       "      <td>6.000000</td>\n",
       "      <td>6.000000</td>\n",
       "      <td>6.000000</td>\n",
       "    </tr>\n",
       "    <tr>\n",
       "      <th>mean</th>\n",
       "      <td>-0.112881</td>\n",
       "      <td>-0.372857</td>\n",
       "      <td>0.266676</td>\n",
       "      <td>0.169022</td>\n",
       "    </tr>\n",
       "    <tr>\n",
       "      <th>std</th>\n",
       "      <td>0.656265</td>\n",
       "      <td>1.138827</td>\n",
       "      <td>0.854060</td>\n",
       "      <td>0.999117</td>\n",
       "    </tr>\n",
       "    <tr>\n",
       "      <th>min</th>\n",
       "      <td>-1.293694</td>\n",
       "      <td>-1.356209</td>\n",
       "      <td>-0.899580</td>\n",
       "      <td>-1.507044</td>\n",
       "    </tr>\n",
       "    <tr>\n",
       "      <th>25%</th>\n",
       "      <td>-0.110334</td>\n",
       "      <td>-1.005312</td>\n",
       "      <td>0.042083</td>\n",
       "      <td>0.081774</td>\n",
       "    </tr>\n",
       "    <tr>\n",
       "      <th>50%</th>\n",
       "      <td>-0.026890</td>\n",
       "      <td>-0.668461</td>\n",
       "      <td>0.097649</td>\n",
       "      <td>0.240882</td>\n",
       "    </tr>\n",
       "    <tr>\n",
       "      <th>75%</th>\n",
       "      <td>0.052898</td>\n",
       "      <td>-0.338848</td>\n",
       "      <td>0.449895</td>\n",
       "      <td>0.352050</td>\n",
       "    </tr>\n",
       "    <tr>\n",
       "      <th>max</th>\n",
       "      <td>0.728844</td>\n",
       "      <td>1.802566</td>\n",
       "      <td>1.713468</td>\n",
       "      <td>1.621567</td>\n",
       "    </tr>\n",
       "  </tbody>\n",
       "</table>\n",
       "</div>"
      ]
     },
     "execution_count": 33,
     "metadata": {},
     "output_type": "execute_result"
    }
   ],
   "execution_count": 33
  },
  {
   "metadata": {
    "ExecuteTime": {
     "end_time": "2024-09-25T05:00:55.445986Z",
     "start_time": "2024-09-25T05:00:55.421985Z"
    }
   },
   "cell_type": "code",
   "source": "df.T",
   "id": "23d24a74bc5c8a1d",
   "outputs": [
    {
     "data": {
      "text/plain": [
       "   2013-01-01  2013-01-02  2013-01-03  2013-01-04  2013-01-05  2013-01-06\n",
       "A    0.073775    0.728844   -1.293694   -0.009731   -0.044049   -0.132429\n",
       "B    1.802566   -1.356209   -0.984940   -1.012103   -0.351983   -0.334470\n",
       "C    0.549830    0.041041    0.150090    1.713468    0.045208   -0.899580\n",
       "D    0.044160    0.373683    0.287151    1.621567   -1.507044    0.194614"
      ],
      "text/html": [
       "<div>\n",
       "<style scoped>\n",
       "    .dataframe tbody tr th:only-of-type {\n",
       "        vertical-align: middle;\n",
       "    }\n",
       "\n",
       "    .dataframe tbody tr th {\n",
       "        vertical-align: top;\n",
       "    }\n",
       "\n",
       "    .dataframe thead th {\n",
       "        text-align: right;\n",
       "    }\n",
       "</style>\n",
       "<table border=\"1\" class=\"dataframe\">\n",
       "  <thead>\n",
       "    <tr style=\"text-align: right;\">\n",
       "      <th></th>\n",
       "      <th>2013-01-01</th>\n",
       "      <th>2013-01-02</th>\n",
       "      <th>2013-01-03</th>\n",
       "      <th>2013-01-04</th>\n",
       "      <th>2013-01-05</th>\n",
       "      <th>2013-01-06</th>\n",
       "    </tr>\n",
       "  </thead>\n",
       "  <tbody>\n",
       "    <tr>\n",
       "      <th>A</th>\n",
       "      <td>0.073775</td>\n",
       "      <td>0.728844</td>\n",
       "      <td>-1.293694</td>\n",
       "      <td>-0.009731</td>\n",
       "      <td>-0.044049</td>\n",
       "      <td>-0.132429</td>\n",
       "    </tr>\n",
       "    <tr>\n",
       "      <th>B</th>\n",
       "      <td>1.802566</td>\n",
       "      <td>-1.356209</td>\n",
       "      <td>-0.984940</td>\n",
       "      <td>-1.012103</td>\n",
       "      <td>-0.351983</td>\n",
       "      <td>-0.334470</td>\n",
       "    </tr>\n",
       "    <tr>\n",
       "      <th>C</th>\n",
       "      <td>0.549830</td>\n",
       "      <td>0.041041</td>\n",
       "      <td>0.150090</td>\n",
       "      <td>1.713468</td>\n",
       "      <td>0.045208</td>\n",
       "      <td>-0.899580</td>\n",
       "    </tr>\n",
       "    <tr>\n",
       "      <th>D</th>\n",
       "      <td>0.044160</td>\n",
       "      <td>0.373683</td>\n",
       "      <td>0.287151</td>\n",
       "      <td>1.621567</td>\n",
       "      <td>-1.507044</td>\n",
       "      <td>0.194614</td>\n",
       "    </tr>\n",
       "  </tbody>\n",
       "</table>\n",
       "</div>"
      ]
     },
     "execution_count": 34,
     "metadata": {},
     "output_type": "execute_result"
    }
   ],
   "execution_count": 34
  },
  {
   "metadata": {
    "ExecuteTime": {
     "end_time": "2024-09-25T05:01:12.109890Z",
     "start_time": "2024-09-25T05:01:12.088260Z"
    }
   },
   "cell_type": "code",
   "source": "df.sort_index(axis=1, ascending=False)",
   "id": "d919fbcd5d890d49",
   "outputs": [
    {
     "data": {
      "text/plain": [
       "                   D         C         B         A\n",
       "2013-01-01  0.044160  0.549830  1.802566  0.073775\n",
       "2013-01-02  0.373683  0.041041 -1.356209  0.728844\n",
       "2013-01-03  0.287151  0.150090 -0.984940 -1.293694\n",
       "2013-01-04  1.621567  1.713468 -1.012103 -0.009731\n",
       "2013-01-05 -1.507044  0.045208 -0.351983 -0.044049\n",
       "2013-01-06  0.194614 -0.899580 -0.334470 -0.132429"
      ],
      "text/html": [
       "<div>\n",
       "<style scoped>\n",
       "    .dataframe tbody tr th:only-of-type {\n",
       "        vertical-align: middle;\n",
       "    }\n",
       "\n",
       "    .dataframe tbody tr th {\n",
       "        vertical-align: top;\n",
       "    }\n",
       "\n",
       "    .dataframe thead th {\n",
       "        text-align: right;\n",
       "    }\n",
       "</style>\n",
       "<table border=\"1\" class=\"dataframe\">\n",
       "  <thead>\n",
       "    <tr style=\"text-align: right;\">\n",
       "      <th></th>\n",
       "      <th>D</th>\n",
       "      <th>C</th>\n",
       "      <th>B</th>\n",
       "      <th>A</th>\n",
       "    </tr>\n",
       "  </thead>\n",
       "  <tbody>\n",
       "    <tr>\n",
       "      <th>2013-01-01</th>\n",
       "      <td>0.044160</td>\n",
       "      <td>0.549830</td>\n",
       "      <td>1.802566</td>\n",
       "      <td>0.073775</td>\n",
       "    </tr>\n",
       "    <tr>\n",
       "      <th>2013-01-02</th>\n",
       "      <td>0.373683</td>\n",
       "      <td>0.041041</td>\n",
       "      <td>-1.356209</td>\n",
       "      <td>0.728844</td>\n",
       "    </tr>\n",
       "    <tr>\n",
       "      <th>2013-01-03</th>\n",
       "      <td>0.287151</td>\n",
       "      <td>0.150090</td>\n",
       "      <td>-0.984940</td>\n",
       "      <td>-1.293694</td>\n",
       "    </tr>\n",
       "    <tr>\n",
       "      <th>2013-01-04</th>\n",
       "      <td>1.621567</td>\n",
       "      <td>1.713468</td>\n",
       "      <td>-1.012103</td>\n",
       "      <td>-0.009731</td>\n",
       "    </tr>\n",
       "    <tr>\n",
       "      <th>2013-01-05</th>\n",
       "      <td>-1.507044</td>\n",
       "      <td>0.045208</td>\n",
       "      <td>-0.351983</td>\n",
       "      <td>-0.044049</td>\n",
       "    </tr>\n",
       "    <tr>\n",
       "      <th>2013-01-06</th>\n",
       "      <td>0.194614</td>\n",
       "      <td>-0.899580</td>\n",
       "      <td>-0.334470</td>\n",
       "      <td>-0.132429</td>\n",
       "    </tr>\n",
       "  </tbody>\n",
       "</table>\n",
       "</div>"
      ]
     },
     "execution_count": 35,
     "metadata": {},
     "output_type": "execute_result"
    }
   ],
   "execution_count": 35
  },
  {
   "metadata": {
    "ExecuteTime": {
     "end_time": "2024-09-25T05:01:27.247671Z",
     "start_time": "2024-09-25T05:01:27.230672Z"
    }
   },
   "cell_type": "code",
   "source": "df.sort_values(by=\"B\")",
   "id": "269c4064aab8b4e1",
   "outputs": [
    {
     "data": {
      "text/plain": [
       "                   A         B         C         D\n",
       "2013-01-02  0.728844 -1.356209  0.041041  0.373683\n",
       "2013-01-04 -0.009731 -1.012103  1.713468  1.621567\n",
       "2013-01-03 -1.293694 -0.984940  0.150090  0.287151\n",
       "2013-01-05 -0.044049 -0.351983  0.045208 -1.507044\n",
       "2013-01-06 -0.132429 -0.334470 -0.899580  0.194614\n",
       "2013-01-01  0.073775  1.802566  0.549830  0.044160"
      ],
      "text/html": [
       "<div>\n",
       "<style scoped>\n",
       "    .dataframe tbody tr th:only-of-type {\n",
       "        vertical-align: middle;\n",
       "    }\n",
       "\n",
       "    .dataframe tbody tr th {\n",
       "        vertical-align: top;\n",
       "    }\n",
       "\n",
       "    .dataframe thead th {\n",
       "        text-align: right;\n",
       "    }\n",
       "</style>\n",
       "<table border=\"1\" class=\"dataframe\">\n",
       "  <thead>\n",
       "    <tr style=\"text-align: right;\">\n",
       "      <th></th>\n",
       "      <th>A</th>\n",
       "      <th>B</th>\n",
       "      <th>C</th>\n",
       "      <th>D</th>\n",
       "    </tr>\n",
       "  </thead>\n",
       "  <tbody>\n",
       "    <tr>\n",
       "      <th>2013-01-02</th>\n",
       "      <td>0.728844</td>\n",
       "      <td>-1.356209</td>\n",
       "      <td>0.041041</td>\n",
       "      <td>0.373683</td>\n",
       "    </tr>\n",
       "    <tr>\n",
       "      <th>2013-01-04</th>\n",
       "      <td>-0.009731</td>\n",
       "      <td>-1.012103</td>\n",
       "      <td>1.713468</td>\n",
       "      <td>1.621567</td>\n",
       "    </tr>\n",
       "    <tr>\n",
       "      <th>2013-01-03</th>\n",
       "      <td>-1.293694</td>\n",
       "      <td>-0.984940</td>\n",
       "      <td>0.150090</td>\n",
       "      <td>0.287151</td>\n",
       "    </tr>\n",
       "    <tr>\n",
       "      <th>2013-01-05</th>\n",
       "      <td>-0.044049</td>\n",
       "      <td>-0.351983</td>\n",
       "      <td>0.045208</td>\n",
       "      <td>-1.507044</td>\n",
       "    </tr>\n",
       "    <tr>\n",
       "      <th>2013-01-06</th>\n",
       "      <td>-0.132429</td>\n",
       "      <td>-0.334470</td>\n",
       "      <td>-0.899580</td>\n",
       "      <td>0.194614</td>\n",
       "    </tr>\n",
       "    <tr>\n",
       "      <th>2013-01-01</th>\n",
       "      <td>0.073775</td>\n",
       "      <td>1.802566</td>\n",
       "      <td>0.549830</td>\n",
       "      <td>0.044160</td>\n",
       "    </tr>\n",
       "  </tbody>\n",
       "</table>\n",
       "</div>"
      ]
     },
     "execution_count": 36,
     "metadata": {},
     "output_type": "execute_result"
    }
   ],
   "execution_count": 36
  },
  {
   "metadata": {
    "ExecuteTime": {
     "end_time": "2024-09-25T05:01:54.709598Z",
     "start_time": "2024-09-25T05:01:54.703598Z"
    }
   },
   "cell_type": "code",
   "source": "df[\"A\"]",
   "id": "d8042cad6f8a8a64",
   "outputs": [
    {
     "data": {
      "text/plain": [
       "2013-01-01    0.073775\n",
       "2013-01-02    0.728844\n",
       "2013-01-03   -1.293694\n",
       "2013-01-04   -0.009731\n",
       "2013-01-05   -0.044049\n",
       "2013-01-06   -0.132429\n",
       "Freq: D, Name: A, dtype: float64"
      ]
     },
     "execution_count": 37,
     "metadata": {},
     "output_type": "execute_result"
    }
   ],
   "execution_count": 37
  },
  {
   "metadata": {
    "ExecuteTime": {
     "end_time": "2024-09-25T05:01:57.414237Z",
     "start_time": "2024-09-25T05:01:57.405219Z"
    }
   },
   "cell_type": "code",
   "source": "df[0:3]",
   "id": "773f271a77669bf1",
   "outputs": [
    {
     "data": {
      "text/plain": [
       "                   A         B         C         D\n",
       "2013-01-01  0.073775  1.802566  0.549830  0.044160\n",
       "2013-01-02  0.728844 -1.356209  0.041041  0.373683\n",
       "2013-01-03 -1.293694 -0.984940  0.150090  0.287151"
      ],
      "text/html": [
       "<div>\n",
       "<style scoped>\n",
       "    .dataframe tbody tr th:only-of-type {\n",
       "        vertical-align: middle;\n",
       "    }\n",
       "\n",
       "    .dataframe tbody tr th {\n",
       "        vertical-align: top;\n",
       "    }\n",
       "\n",
       "    .dataframe thead th {\n",
       "        text-align: right;\n",
       "    }\n",
       "</style>\n",
       "<table border=\"1\" class=\"dataframe\">\n",
       "  <thead>\n",
       "    <tr style=\"text-align: right;\">\n",
       "      <th></th>\n",
       "      <th>A</th>\n",
       "      <th>B</th>\n",
       "      <th>C</th>\n",
       "      <th>D</th>\n",
       "    </tr>\n",
       "  </thead>\n",
       "  <tbody>\n",
       "    <tr>\n",
       "      <th>2013-01-01</th>\n",
       "      <td>0.073775</td>\n",
       "      <td>1.802566</td>\n",
       "      <td>0.549830</td>\n",
       "      <td>0.044160</td>\n",
       "    </tr>\n",
       "    <tr>\n",
       "      <th>2013-01-02</th>\n",
       "      <td>0.728844</td>\n",
       "      <td>-1.356209</td>\n",
       "      <td>0.041041</td>\n",
       "      <td>0.373683</td>\n",
       "    </tr>\n",
       "    <tr>\n",
       "      <th>2013-01-03</th>\n",
       "      <td>-1.293694</td>\n",
       "      <td>-0.984940</td>\n",
       "      <td>0.150090</td>\n",
       "      <td>0.287151</td>\n",
       "    </tr>\n",
       "  </tbody>\n",
       "</table>\n",
       "</div>"
      ]
     },
     "execution_count": 38,
     "metadata": {},
     "output_type": "execute_result"
    }
   ],
   "execution_count": 38
  },
  {
   "metadata": {
    "ExecuteTime": {
     "end_time": "2024-09-25T05:02:18.436369Z",
     "start_time": "2024-09-25T05:02:18.418354Z"
    }
   },
   "cell_type": "code",
   "source": "df[\"20130102\":\"20130104\"]",
   "id": "6800c1fb5d2956a3",
   "outputs": [
    {
     "data": {
      "text/plain": [
       "                   A         B         C         D\n",
       "2013-01-02  0.728844 -1.356209  0.041041  0.373683\n",
       "2013-01-03 -1.293694 -0.984940  0.150090  0.287151\n",
       "2013-01-04 -0.009731 -1.012103  1.713468  1.621567"
      ],
      "text/html": [
       "<div>\n",
       "<style scoped>\n",
       "    .dataframe tbody tr th:only-of-type {\n",
       "        vertical-align: middle;\n",
       "    }\n",
       "\n",
       "    .dataframe tbody tr th {\n",
       "        vertical-align: top;\n",
       "    }\n",
       "\n",
       "    .dataframe thead th {\n",
       "        text-align: right;\n",
       "    }\n",
       "</style>\n",
       "<table border=\"1\" class=\"dataframe\">\n",
       "  <thead>\n",
       "    <tr style=\"text-align: right;\">\n",
       "      <th></th>\n",
       "      <th>A</th>\n",
       "      <th>B</th>\n",
       "      <th>C</th>\n",
       "      <th>D</th>\n",
       "    </tr>\n",
       "  </thead>\n",
       "  <tbody>\n",
       "    <tr>\n",
       "      <th>2013-01-02</th>\n",
       "      <td>0.728844</td>\n",
       "      <td>-1.356209</td>\n",
       "      <td>0.041041</td>\n",
       "      <td>0.373683</td>\n",
       "    </tr>\n",
       "    <tr>\n",
       "      <th>2013-01-03</th>\n",
       "      <td>-1.293694</td>\n",
       "      <td>-0.984940</td>\n",
       "      <td>0.150090</td>\n",
       "      <td>0.287151</td>\n",
       "    </tr>\n",
       "    <tr>\n",
       "      <th>2013-01-04</th>\n",
       "      <td>-0.009731</td>\n",
       "      <td>-1.012103</td>\n",
       "      <td>1.713468</td>\n",
       "      <td>1.621567</td>\n",
       "    </tr>\n",
       "  </tbody>\n",
       "</table>\n",
       "</div>"
      ]
     },
     "execution_count": 39,
     "metadata": {},
     "output_type": "execute_result"
    }
   ],
   "execution_count": 39
  },
  {
   "metadata": {
    "ExecuteTime": {
     "end_time": "2024-09-25T05:02:31.430775Z",
     "start_time": "2024-09-25T05:02:31.422776Z"
    }
   },
   "cell_type": "code",
   "source": "df.loc[dates[0]]",
   "id": "8e12396b02e58a40",
   "outputs": [
    {
     "data": {
      "text/plain": [
       "A    0.073775\n",
       "B    1.802566\n",
       "C    0.549830\n",
       "D    0.044160\n",
       "Name: 2013-01-01 00:00:00, dtype: float64"
      ]
     },
     "execution_count": 40,
     "metadata": {},
     "output_type": "execute_result"
    }
   ],
   "execution_count": 40
  },
  {
   "metadata": {
    "ExecuteTime": {
     "end_time": "2024-09-25T05:02:50.321955Z",
     "start_time": "2024-09-25T05:02:50.300339Z"
    }
   },
   "cell_type": "code",
   "source": "df.loc[:, [\"A\", \"B\"]]",
   "id": "c0d93524b4bc171f",
   "outputs": [
    {
     "data": {
      "text/plain": [
       "                   A         B\n",
       "2013-01-01  0.073775  1.802566\n",
       "2013-01-02  0.728844 -1.356209\n",
       "2013-01-03 -1.293694 -0.984940\n",
       "2013-01-04 -0.009731 -1.012103\n",
       "2013-01-05 -0.044049 -0.351983\n",
       "2013-01-06 -0.132429 -0.334470"
      ],
      "text/html": [
       "<div>\n",
       "<style scoped>\n",
       "    .dataframe tbody tr th:only-of-type {\n",
       "        vertical-align: middle;\n",
       "    }\n",
       "\n",
       "    .dataframe tbody tr th {\n",
       "        vertical-align: top;\n",
       "    }\n",
       "\n",
       "    .dataframe thead th {\n",
       "        text-align: right;\n",
       "    }\n",
       "</style>\n",
       "<table border=\"1\" class=\"dataframe\">\n",
       "  <thead>\n",
       "    <tr style=\"text-align: right;\">\n",
       "      <th></th>\n",
       "      <th>A</th>\n",
       "      <th>B</th>\n",
       "    </tr>\n",
       "  </thead>\n",
       "  <tbody>\n",
       "    <tr>\n",
       "      <th>2013-01-01</th>\n",
       "      <td>0.073775</td>\n",
       "      <td>1.802566</td>\n",
       "    </tr>\n",
       "    <tr>\n",
       "      <th>2013-01-02</th>\n",
       "      <td>0.728844</td>\n",
       "      <td>-1.356209</td>\n",
       "    </tr>\n",
       "    <tr>\n",
       "      <th>2013-01-03</th>\n",
       "      <td>-1.293694</td>\n",
       "      <td>-0.984940</td>\n",
       "    </tr>\n",
       "    <tr>\n",
       "      <th>2013-01-04</th>\n",
       "      <td>-0.009731</td>\n",
       "      <td>-1.012103</td>\n",
       "    </tr>\n",
       "    <tr>\n",
       "      <th>2013-01-05</th>\n",
       "      <td>-0.044049</td>\n",
       "      <td>-0.351983</td>\n",
       "    </tr>\n",
       "    <tr>\n",
       "      <th>2013-01-06</th>\n",
       "      <td>-0.132429</td>\n",
       "      <td>-0.334470</td>\n",
       "    </tr>\n",
       "  </tbody>\n",
       "</table>\n",
       "</div>"
      ]
     },
     "execution_count": 41,
     "metadata": {},
     "output_type": "execute_result"
    }
   ],
   "execution_count": 41
  },
  {
   "metadata": {
    "ExecuteTime": {
     "end_time": "2024-09-25T05:03:32.452791Z",
     "start_time": "2024-09-25T05:03:32.435683Z"
    }
   },
   "cell_type": "code",
   "source": "df.loc[\"20130102\":\"20130104\", [\"A\", \"B\"]]",
   "id": "ce6d3582963b7552",
   "outputs": [
    {
     "data": {
      "text/plain": [
       "                   A         B\n",
       "2013-01-02  0.728844 -1.356209\n",
       "2013-01-03 -1.293694 -0.984940\n",
       "2013-01-04 -0.009731 -1.012103"
      ],
      "text/html": [
       "<div>\n",
       "<style scoped>\n",
       "    .dataframe tbody tr th:only-of-type {\n",
       "        vertical-align: middle;\n",
       "    }\n",
       "\n",
       "    .dataframe tbody tr th {\n",
       "        vertical-align: top;\n",
       "    }\n",
       "\n",
       "    .dataframe thead th {\n",
       "        text-align: right;\n",
       "    }\n",
       "</style>\n",
       "<table border=\"1\" class=\"dataframe\">\n",
       "  <thead>\n",
       "    <tr style=\"text-align: right;\">\n",
       "      <th></th>\n",
       "      <th>A</th>\n",
       "      <th>B</th>\n",
       "    </tr>\n",
       "  </thead>\n",
       "  <tbody>\n",
       "    <tr>\n",
       "      <th>2013-01-02</th>\n",
       "      <td>0.728844</td>\n",
       "      <td>-1.356209</td>\n",
       "    </tr>\n",
       "    <tr>\n",
       "      <th>2013-01-03</th>\n",
       "      <td>-1.293694</td>\n",
       "      <td>-0.984940</td>\n",
       "    </tr>\n",
       "    <tr>\n",
       "      <th>2013-01-04</th>\n",
       "      <td>-0.009731</td>\n",
       "      <td>-1.012103</td>\n",
       "    </tr>\n",
       "  </tbody>\n",
       "</table>\n",
       "</div>"
      ]
     },
     "execution_count": 42,
     "metadata": {},
     "output_type": "execute_result"
    }
   ],
   "execution_count": 42
  },
  {
   "metadata": {
    "ExecuteTime": {
     "end_time": "2024-09-25T05:05:20.598260Z",
     "start_time": "2024-09-25T05:05:20.579133Z"
    }
   },
   "cell_type": "code",
   "source": "df.loc[dates[0], \"A\"].item()",
   "id": "7221aeb913826812",
   "outputs": [
    {
     "data": {
      "text/plain": [
       "0.07377460713717493"
      ]
     },
     "execution_count": 47,
     "metadata": {},
     "output_type": "execute_result"
    }
   ],
   "execution_count": 47
  },
  {
   "metadata": {
    "ExecuteTime": {
     "end_time": "2024-09-25T05:05:50.732195Z",
     "start_time": "2024-09-25T05:05:50.723197Z"
    }
   },
   "cell_type": "code",
   "source": "df.at[dates[0], \"A\"].item()",
   "id": "727379da2bdb9938",
   "outputs": [
    {
     "data": {
      "text/plain": [
       "0.07377460713717493"
      ]
     },
     "execution_count": 49,
     "metadata": {},
     "output_type": "execute_result"
    }
   ],
   "execution_count": 49
  },
  {
   "metadata": {
    "ExecuteTime": {
     "end_time": "2024-09-25T05:06:42.642129Z",
     "start_time": "2024-09-25T05:06:42.622129Z"
    }
   },
   "cell_type": "code",
   "source": "df.iloc[3]",
   "id": "2857ce15dd3eb828",
   "outputs": [
    {
     "data": {
      "text/plain": [
       "A   -0.009731\n",
       "B   -1.012103\n",
       "C    1.713468\n",
       "D    1.621567\n",
       "Name: 2013-01-04 00:00:00, dtype: float64"
      ]
     },
     "execution_count": 50,
     "metadata": {},
     "output_type": "execute_result"
    }
   ],
   "execution_count": 50
  },
  {
   "metadata": {
    "ExecuteTime": {
     "end_time": "2024-09-25T05:06:44.963937Z",
     "start_time": "2024-09-25T05:06:44.946898Z"
    }
   },
   "cell_type": "code",
   "source": "df.iloc[3:5, 0:2]",
   "id": "46e7032531f5c887",
   "outputs": [
    {
     "data": {
      "text/plain": [
       "                   A         B\n",
       "2013-01-04 -0.009731 -1.012103\n",
       "2013-01-05 -0.044049 -0.351983"
      ],
      "text/html": [
       "<div>\n",
       "<style scoped>\n",
       "    .dataframe tbody tr th:only-of-type {\n",
       "        vertical-align: middle;\n",
       "    }\n",
       "\n",
       "    .dataframe tbody tr th {\n",
       "        vertical-align: top;\n",
       "    }\n",
       "\n",
       "    .dataframe thead th {\n",
       "        text-align: right;\n",
       "    }\n",
       "</style>\n",
       "<table border=\"1\" class=\"dataframe\">\n",
       "  <thead>\n",
       "    <tr style=\"text-align: right;\">\n",
       "      <th></th>\n",
       "      <th>A</th>\n",
       "      <th>B</th>\n",
       "    </tr>\n",
       "  </thead>\n",
       "  <tbody>\n",
       "    <tr>\n",
       "      <th>2013-01-04</th>\n",
       "      <td>-0.009731</td>\n",
       "      <td>-1.012103</td>\n",
       "    </tr>\n",
       "    <tr>\n",
       "      <th>2013-01-05</th>\n",
       "      <td>-0.044049</td>\n",
       "      <td>-0.351983</td>\n",
       "    </tr>\n",
       "  </tbody>\n",
       "</table>\n",
       "</div>"
      ]
     },
     "execution_count": 51,
     "metadata": {},
     "output_type": "execute_result"
    }
   ],
   "execution_count": 51
  },
  {
   "metadata": {
    "ExecuteTime": {
     "end_time": "2024-09-25T05:06:47.624778Z",
     "start_time": "2024-09-25T05:06:47.600589Z"
    }
   },
   "cell_type": "code",
   "source": "df.iloc[[1, 2, 4], [0, 2]]",
   "id": "5d7c5607ef07b81e",
   "outputs": [
    {
     "data": {
      "text/plain": [
       "                   A         C\n",
       "2013-01-02  0.728844  0.041041\n",
       "2013-01-03 -1.293694  0.150090\n",
       "2013-01-05 -0.044049  0.045208"
      ],
      "text/html": [
       "<div>\n",
       "<style scoped>\n",
       "    .dataframe tbody tr th:only-of-type {\n",
       "        vertical-align: middle;\n",
       "    }\n",
       "\n",
       "    .dataframe tbody tr th {\n",
       "        vertical-align: top;\n",
       "    }\n",
       "\n",
       "    .dataframe thead th {\n",
       "        text-align: right;\n",
       "    }\n",
       "</style>\n",
       "<table border=\"1\" class=\"dataframe\">\n",
       "  <thead>\n",
       "    <tr style=\"text-align: right;\">\n",
       "      <th></th>\n",
       "      <th>A</th>\n",
       "      <th>C</th>\n",
       "    </tr>\n",
       "  </thead>\n",
       "  <tbody>\n",
       "    <tr>\n",
       "      <th>2013-01-02</th>\n",
       "      <td>0.728844</td>\n",
       "      <td>0.041041</td>\n",
       "    </tr>\n",
       "    <tr>\n",
       "      <th>2013-01-03</th>\n",
       "      <td>-1.293694</td>\n",
       "      <td>0.150090</td>\n",
       "    </tr>\n",
       "    <tr>\n",
       "      <th>2013-01-05</th>\n",
       "      <td>-0.044049</td>\n",
       "      <td>0.045208</td>\n",
       "    </tr>\n",
       "  </tbody>\n",
       "</table>\n",
       "</div>"
      ]
     },
     "execution_count": 52,
     "metadata": {},
     "output_type": "execute_result"
    }
   ],
   "execution_count": 52
  },
  {
   "metadata": {
    "ExecuteTime": {
     "end_time": "2024-09-25T05:07:29.456120Z",
     "start_time": "2024-09-25T05:07:29.441090Z"
    }
   },
   "cell_type": "code",
   "source": "df.iloc[1:3, :]",
   "id": "8056302f92879938",
   "outputs": [
    {
     "data": {
      "text/plain": [
       "                   A         B         C         D\n",
       "2013-01-02  0.728844 -1.356209  0.041041  0.373683\n",
       "2013-01-03 -1.293694 -0.984940  0.150090  0.287151"
      ],
      "text/html": [
       "<div>\n",
       "<style scoped>\n",
       "    .dataframe tbody tr th:only-of-type {\n",
       "        vertical-align: middle;\n",
       "    }\n",
       "\n",
       "    .dataframe tbody tr th {\n",
       "        vertical-align: top;\n",
       "    }\n",
       "\n",
       "    .dataframe thead th {\n",
       "        text-align: right;\n",
       "    }\n",
       "</style>\n",
       "<table border=\"1\" class=\"dataframe\">\n",
       "  <thead>\n",
       "    <tr style=\"text-align: right;\">\n",
       "      <th></th>\n",
       "      <th>A</th>\n",
       "      <th>B</th>\n",
       "      <th>C</th>\n",
       "      <th>D</th>\n",
       "    </tr>\n",
       "  </thead>\n",
       "  <tbody>\n",
       "    <tr>\n",
       "      <th>2013-01-02</th>\n",
       "      <td>0.728844</td>\n",
       "      <td>-1.356209</td>\n",
       "      <td>0.041041</td>\n",
       "      <td>0.373683</td>\n",
       "    </tr>\n",
       "    <tr>\n",
       "      <th>2013-01-03</th>\n",
       "      <td>-1.293694</td>\n",
       "      <td>-0.984940</td>\n",
       "      <td>0.150090</td>\n",
       "      <td>0.287151</td>\n",
       "    </tr>\n",
       "  </tbody>\n",
       "</table>\n",
       "</div>"
      ]
     },
     "execution_count": 53,
     "metadata": {},
     "output_type": "execute_result"
    }
   ],
   "execution_count": 53
  },
  {
   "metadata": {
    "ExecuteTime": {
     "end_time": "2024-09-25T05:08:05.454266Z",
     "start_time": "2024-09-25T05:08:05.433268Z"
    }
   },
   "cell_type": "code",
   "source": "df.iloc[:, 1:3]",
   "id": "362b5fbfb91942a0",
   "outputs": [
    {
     "data": {
      "text/plain": [
       "                   B         C\n",
       "2013-01-01  1.802566  0.549830\n",
       "2013-01-02 -1.356209  0.041041\n",
       "2013-01-03 -0.984940  0.150090\n",
       "2013-01-04 -1.012103  1.713468\n",
       "2013-01-05 -0.351983  0.045208\n",
       "2013-01-06 -0.334470 -0.899580"
      ],
      "text/html": [
       "<div>\n",
       "<style scoped>\n",
       "    .dataframe tbody tr th:only-of-type {\n",
       "        vertical-align: middle;\n",
       "    }\n",
       "\n",
       "    .dataframe tbody tr th {\n",
       "        vertical-align: top;\n",
       "    }\n",
       "\n",
       "    .dataframe thead th {\n",
       "        text-align: right;\n",
       "    }\n",
       "</style>\n",
       "<table border=\"1\" class=\"dataframe\">\n",
       "  <thead>\n",
       "    <tr style=\"text-align: right;\">\n",
       "      <th></th>\n",
       "      <th>B</th>\n",
       "      <th>C</th>\n",
       "    </tr>\n",
       "  </thead>\n",
       "  <tbody>\n",
       "    <tr>\n",
       "      <th>2013-01-01</th>\n",
       "      <td>1.802566</td>\n",
       "      <td>0.549830</td>\n",
       "    </tr>\n",
       "    <tr>\n",
       "      <th>2013-01-02</th>\n",
       "      <td>-1.356209</td>\n",
       "      <td>0.041041</td>\n",
       "    </tr>\n",
       "    <tr>\n",
       "      <th>2013-01-03</th>\n",
       "      <td>-0.984940</td>\n",
       "      <td>0.150090</td>\n",
       "    </tr>\n",
       "    <tr>\n",
       "      <th>2013-01-04</th>\n",
       "      <td>-1.012103</td>\n",
       "      <td>1.713468</td>\n",
       "    </tr>\n",
       "    <tr>\n",
       "      <th>2013-01-05</th>\n",
       "      <td>-0.351983</td>\n",
       "      <td>0.045208</td>\n",
       "    </tr>\n",
       "    <tr>\n",
       "      <th>2013-01-06</th>\n",
       "      <td>-0.334470</td>\n",
       "      <td>-0.899580</td>\n",
       "    </tr>\n",
       "  </tbody>\n",
       "</table>\n",
       "</div>"
      ]
     },
     "execution_count": 54,
     "metadata": {},
     "output_type": "execute_result"
    }
   ],
   "execution_count": 54
  },
  {
   "metadata": {
    "ExecuteTime": {
     "end_time": "2024-09-25T05:08:33.504074Z",
     "start_time": "2024-09-25T05:08:33.497073Z"
    }
   },
   "cell_type": "code",
   "source": "df.iloc[1, 1].item()",
   "id": "705462b8c50de7ce",
   "outputs": [
    {
     "data": {
      "text/plain": [
       "-1.3562094660025705"
      ]
     },
     "execution_count": 58,
     "metadata": {},
     "output_type": "execute_result"
    }
   ],
   "execution_count": 58
  },
  {
   "metadata": {
    "ExecuteTime": {
     "end_time": "2024-09-25T05:10:18.734852Z",
     "start_time": "2024-09-25T05:10:18.723769Z"
    }
   },
   "cell_type": "code",
   "source": "df.iat[1, 1].item()",
   "id": "93ae7ca686238404",
   "outputs": [
    {
     "data": {
      "text/plain": [
       "-1.3562094660025705"
      ]
     },
     "execution_count": 59,
     "metadata": {},
     "output_type": "execute_result"
    }
   ],
   "execution_count": 59
  },
  {
   "metadata": {
    "ExecuteTime": {
     "end_time": "2024-09-25T05:10:32.320478Z",
     "start_time": "2024-09-25T05:10:32.305908Z"
    }
   },
   "cell_type": "code",
   "source": "df[df[\"A\"] > 0]",
   "id": "78f060ee037d2e18",
   "outputs": [
    {
     "data": {
      "text/plain": [
       "                   A         B         C         D\n",
       "2013-01-01  0.073775  1.802566  0.549830  0.044160\n",
       "2013-01-02  0.728844 -1.356209  0.041041  0.373683"
      ],
      "text/html": [
       "<div>\n",
       "<style scoped>\n",
       "    .dataframe tbody tr th:only-of-type {\n",
       "        vertical-align: middle;\n",
       "    }\n",
       "\n",
       "    .dataframe tbody tr th {\n",
       "        vertical-align: top;\n",
       "    }\n",
       "\n",
       "    .dataframe thead th {\n",
       "        text-align: right;\n",
       "    }\n",
       "</style>\n",
       "<table border=\"1\" class=\"dataframe\">\n",
       "  <thead>\n",
       "    <tr style=\"text-align: right;\">\n",
       "      <th></th>\n",
       "      <th>A</th>\n",
       "      <th>B</th>\n",
       "      <th>C</th>\n",
       "      <th>D</th>\n",
       "    </tr>\n",
       "  </thead>\n",
       "  <tbody>\n",
       "    <tr>\n",
       "      <th>2013-01-01</th>\n",
       "      <td>0.073775</td>\n",
       "      <td>1.802566</td>\n",
       "      <td>0.549830</td>\n",
       "      <td>0.044160</td>\n",
       "    </tr>\n",
       "    <tr>\n",
       "      <th>2013-01-02</th>\n",
       "      <td>0.728844</td>\n",
       "      <td>-1.356209</td>\n",
       "      <td>0.041041</td>\n",
       "      <td>0.373683</td>\n",
       "    </tr>\n",
       "  </tbody>\n",
       "</table>\n",
       "</div>"
      ]
     },
     "execution_count": 60,
     "metadata": {},
     "output_type": "execute_result"
    }
   ],
   "execution_count": 60
  },
  {
   "metadata": {
    "ExecuteTime": {
     "end_time": "2024-09-25T05:10:42.198223Z",
     "start_time": "2024-09-25T05:10:42.185197Z"
    }
   },
   "cell_type": "code",
   "source": "df[df > 0]",
   "id": "3da9436802e29614",
   "outputs": [
    {
     "data": {
      "text/plain": [
       "                   A         B         C         D\n",
       "2013-01-01  0.073775  1.802566  0.549830  0.044160\n",
       "2013-01-02  0.728844       NaN  0.041041  0.373683\n",
       "2013-01-03       NaN       NaN  0.150090  0.287151\n",
       "2013-01-04       NaN       NaN  1.713468  1.621567\n",
       "2013-01-05       NaN       NaN  0.045208       NaN\n",
       "2013-01-06       NaN       NaN       NaN  0.194614"
      ],
      "text/html": [
       "<div>\n",
       "<style scoped>\n",
       "    .dataframe tbody tr th:only-of-type {\n",
       "        vertical-align: middle;\n",
       "    }\n",
       "\n",
       "    .dataframe tbody tr th {\n",
       "        vertical-align: top;\n",
       "    }\n",
       "\n",
       "    .dataframe thead th {\n",
       "        text-align: right;\n",
       "    }\n",
       "</style>\n",
       "<table border=\"1\" class=\"dataframe\">\n",
       "  <thead>\n",
       "    <tr style=\"text-align: right;\">\n",
       "      <th></th>\n",
       "      <th>A</th>\n",
       "      <th>B</th>\n",
       "      <th>C</th>\n",
       "      <th>D</th>\n",
       "    </tr>\n",
       "  </thead>\n",
       "  <tbody>\n",
       "    <tr>\n",
       "      <th>2013-01-01</th>\n",
       "      <td>0.073775</td>\n",
       "      <td>1.802566</td>\n",
       "      <td>0.549830</td>\n",
       "      <td>0.044160</td>\n",
       "    </tr>\n",
       "    <tr>\n",
       "      <th>2013-01-02</th>\n",
       "      <td>0.728844</td>\n",
       "      <td>NaN</td>\n",
       "      <td>0.041041</td>\n",
       "      <td>0.373683</td>\n",
       "    </tr>\n",
       "    <tr>\n",
       "      <th>2013-01-03</th>\n",
       "      <td>NaN</td>\n",
       "      <td>NaN</td>\n",
       "      <td>0.150090</td>\n",
       "      <td>0.287151</td>\n",
       "    </tr>\n",
       "    <tr>\n",
       "      <th>2013-01-04</th>\n",
       "      <td>NaN</td>\n",
       "      <td>NaN</td>\n",
       "      <td>1.713468</td>\n",
       "      <td>1.621567</td>\n",
       "    </tr>\n",
       "    <tr>\n",
       "      <th>2013-01-05</th>\n",
       "      <td>NaN</td>\n",
       "      <td>NaN</td>\n",
       "      <td>0.045208</td>\n",
       "      <td>NaN</td>\n",
       "    </tr>\n",
       "    <tr>\n",
       "      <th>2013-01-06</th>\n",
       "      <td>NaN</td>\n",
       "      <td>NaN</td>\n",
       "      <td>NaN</td>\n",
       "      <td>0.194614</td>\n",
       "    </tr>\n",
       "  </tbody>\n",
       "</table>\n",
       "</div>"
      ]
     },
     "execution_count": 61,
     "metadata": {},
     "output_type": "execute_result"
    }
   ],
   "execution_count": 61
  },
  {
   "metadata": {
    "ExecuteTime": {
     "end_time": "2024-09-25T05:12:30.184428Z",
     "start_time": "2024-09-25T05:12:30.160279Z"
    }
   },
   "cell_type": "code",
   "source": [
    "df2 = df.copy()\n",
    "df2[\"E\"] = [\"one\", \"one\", \"two\", \"three\", \"four\", \"three\"]\n",
    "df2"
   ],
   "id": "c1234bee3192716a",
   "outputs": [
    {
     "data": {
      "text/plain": [
       "                   A         B         C         D      E\n",
       "2013-01-01  0.073775  1.802566  0.549830  0.044160    one\n",
       "2013-01-02  0.728844 -1.356209  0.041041  0.373683    one\n",
       "2013-01-03 -1.293694 -0.984940  0.150090  0.287151    two\n",
       "2013-01-04 -0.009731 -1.012103  1.713468  1.621567  three\n",
       "2013-01-05 -0.044049 -0.351983  0.045208 -1.507044   four\n",
       "2013-01-06 -0.132429 -0.334470 -0.899580  0.194614  three"
      ],
      "text/html": [
       "<div>\n",
       "<style scoped>\n",
       "    .dataframe tbody tr th:only-of-type {\n",
       "        vertical-align: middle;\n",
       "    }\n",
       "\n",
       "    .dataframe tbody tr th {\n",
       "        vertical-align: top;\n",
       "    }\n",
       "\n",
       "    .dataframe thead th {\n",
       "        text-align: right;\n",
       "    }\n",
       "</style>\n",
       "<table border=\"1\" class=\"dataframe\">\n",
       "  <thead>\n",
       "    <tr style=\"text-align: right;\">\n",
       "      <th></th>\n",
       "      <th>A</th>\n",
       "      <th>B</th>\n",
       "      <th>C</th>\n",
       "      <th>D</th>\n",
       "      <th>E</th>\n",
       "    </tr>\n",
       "  </thead>\n",
       "  <tbody>\n",
       "    <tr>\n",
       "      <th>2013-01-01</th>\n",
       "      <td>0.073775</td>\n",
       "      <td>1.802566</td>\n",
       "      <td>0.549830</td>\n",
       "      <td>0.044160</td>\n",
       "      <td>one</td>\n",
       "    </tr>\n",
       "    <tr>\n",
       "      <th>2013-01-02</th>\n",
       "      <td>0.728844</td>\n",
       "      <td>-1.356209</td>\n",
       "      <td>0.041041</td>\n",
       "      <td>0.373683</td>\n",
       "      <td>one</td>\n",
       "    </tr>\n",
       "    <tr>\n",
       "      <th>2013-01-03</th>\n",
       "      <td>-1.293694</td>\n",
       "      <td>-0.984940</td>\n",
       "      <td>0.150090</td>\n",
       "      <td>0.287151</td>\n",
       "      <td>two</td>\n",
       "    </tr>\n",
       "    <tr>\n",
       "      <th>2013-01-04</th>\n",
       "      <td>-0.009731</td>\n",
       "      <td>-1.012103</td>\n",
       "      <td>1.713468</td>\n",
       "      <td>1.621567</td>\n",
       "      <td>three</td>\n",
       "    </tr>\n",
       "    <tr>\n",
       "      <th>2013-01-05</th>\n",
       "      <td>-0.044049</td>\n",
       "      <td>-0.351983</td>\n",
       "      <td>0.045208</td>\n",
       "      <td>-1.507044</td>\n",
       "      <td>four</td>\n",
       "    </tr>\n",
       "    <tr>\n",
       "      <th>2013-01-06</th>\n",
       "      <td>-0.132429</td>\n",
       "      <td>-0.334470</td>\n",
       "      <td>-0.899580</td>\n",
       "      <td>0.194614</td>\n",
       "      <td>three</td>\n",
       "    </tr>\n",
       "  </tbody>\n",
       "</table>\n",
       "</div>"
      ]
     },
     "execution_count": 62,
     "metadata": {},
     "output_type": "execute_result"
    }
   ],
   "execution_count": 62
  },
  {
   "metadata": {
    "ExecuteTime": {
     "end_time": "2024-09-25T05:12:52.161419Z",
     "start_time": "2024-09-25T05:12:52.150420Z"
    }
   },
   "cell_type": "code",
   "source": "df2[df2[\"E\"].isin([\"two\", \"four\"])]",
   "id": "5a7100be54f12b10",
   "outputs": [
    {
     "data": {
      "text/plain": [
       "                   A         B         C         D     E\n",
       "2013-01-03 -1.293694 -0.984940  0.150090  0.287151   two\n",
       "2013-01-05 -0.044049 -0.351983  0.045208 -1.507044  four"
      ],
      "text/html": [
       "<div>\n",
       "<style scoped>\n",
       "    .dataframe tbody tr th:only-of-type {\n",
       "        vertical-align: middle;\n",
       "    }\n",
       "\n",
       "    .dataframe tbody tr th {\n",
       "        vertical-align: top;\n",
       "    }\n",
       "\n",
       "    .dataframe thead th {\n",
       "        text-align: right;\n",
       "    }\n",
       "</style>\n",
       "<table border=\"1\" class=\"dataframe\">\n",
       "  <thead>\n",
       "    <tr style=\"text-align: right;\">\n",
       "      <th></th>\n",
       "      <th>A</th>\n",
       "      <th>B</th>\n",
       "      <th>C</th>\n",
       "      <th>D</th>\n",
       "      <th>E</th>\n",
       "    </tr>\n",
       "  </thead>\n",
       "  <tbody>\n",
       "    <tr>\n",
       "      <th>2013-01-03</th>\n",
       "      <td>-1.293694</td>\n",
       "      <td>-0.984940</td>\n",
       "      <td>0.150090</td>\n",
       "      <td>0.287151</td>\n",
       "      <td>two</td>\n",
       "    </tr>\n",
       "    <tr>\n",
       "      <th>2013-01-05</th>\n",
       "      <td>-0.044049</td>\n",
       "      <td>-0.351983</td>\n",
       "      <td>0.045208</td>\n",
       "      <td>-1.507044</td>\n",
       "      <td>four</td>\n",
       "    </tr>\n",
       "  </tbody>\n",
       "</table>\n",
       "</div>"
      ]
     },
     "execution_count": 63,
     "metadata": {},
     "output_type": "execute_result"
    }
   ],
   "execution_count": 63
  },
  {
   "metadata": {
    "ExecuteTime": {
     "end_time": "2024-09-25T05:13:13.661328Z",
     "start_time": "2024-09-25T05:13:13.651328Z"
    }
   },
   "cell_type": "code",
   "source": [
    "s1 = pd.Series([1, 2, 3, 4, 5, 6], index=pd.date_range(\"20130102\", periods=6))\n",
    "s1"
   ],
   "id": "f2adc10c63edf755",
   "outputs": [
    {
     "data": {
      "text/plain": [
       "2013-01-02    1\n",
       "2013-01-03    2\n",
       "2013-01-04    3\n",
       "2013-01-05    4\n",
       "2013-01-06    5\n",
       "2013-01-07    6\n",
       "Freq: D, dtype: int64"
      ]
     },
     "execution_count": 64,
     "metadata": {},
     "output_type": "execute_result"
    }
   ],
   "execution_count": 64
  },
  {
   "metadata": {
    "ExecuteTime": {
     "end_time": "2024-09-25T05:14:51.023552Z",
     "start_time": "2024-09-25T05:14:51.007554Z"
    }
   },
   "cell_type": "code",
   "source": [
    "df[\"F\"] = s1\n",
    "df.at[dates[0], \"A\"] = 0\n",
    "df.iat[0, 1] = 0\n",
    "df.loc[:, \"D\"] = np.array([5] * len(df))\n",
    "df"
   ],
   "id": "8c87c80ee94456dc",
   "outputs": [
    {
     "data": {
      "text/plain": [
       "                   A         B         C    D    F\n",
       "2013-01-01  0.000000  0.000000  0.549830  5.0  NaN\n",
       "2013-01-02  0.728844 -1.356209  0.041041  5.0  1.0\n",
       "2013-01-03 -1.293694 -0.984940  0.150090  5.0  2.0\n",
       "2013-01-04 -0.009731 -1.012103  1.713468  5.0  3.0\n",
       "2013-01-05 -0.044049 -0.351983  0.045208  5.0  4.0\n",
       "2013-01-06 -0.132429 -0.334470 -0.899580  5.0  5.0"
      ],
      "text/html": [
       "<div>\n",
       "<style scoped>\n",
       "    .dataframe tbody tr th:only-of-type {\n",
       "        vertical-align: middle;\n",
       "    }\n",
       "\n",
       "    .dataframe tbody tr th {\n",
       "        vertical-align: top;\n",
       "    }\n",
       "\n",
       "    .dataframe thead th {\n",
       "        text-align: right;\n",
       "    }\n",
       "</style>\n",
       "<table border=\"1\" class=\"dataframe\">\n",
       "  <thead>\n",
       "    <tr style=\"text-align: right;\">\n",
       "      <th></th>\n",
       "      <th>A</th>\n",
       "      <th>B</th>\n",
       "      <th>C</th>\n",
       "      <th>D</th>\n",
       "      <th>F</th>\n",
       "    </tr>\n",
       "  </thead>\n",
       "  <tbody>\n",
       "    <tr>\n",
       "      <th>2013-01-01</th>\n",
       "      <td>0.000000</td>\n",
       "      <td>0.000000</td>\n",
       "      <td>0.549830</td>\n",
       "      <td>5.0</td>\n",
       "      <td>NaN</td>\n",
       "    </tr>\n",
       "    <tr>\n",
       "      <th>2013-01-02</th>\n",
       "      <td>0.728844</td>\n",
       "      <td>-1.356209</td>\n",
       "      <td>0.041041</td>\n",
       "      <td>5.0</td>\n",
       "      <td>1.0</td>\n",
       "    </tr>\n",
       "    <tr>\n",
       "      <th>2013-01-03</th>\n",
       "      <td>-1.293694</td>\n",
       "      <td>-0.984940</td>\n",
       "      <td>0.150090</td>\n",
       "      <td>5.0</td>\n",
       "      <td>2.0</td>\n",
       "    </tr>\n",
       "    <tr>\n",
       "      <th>2013-01-04</th>\n",
       "      <td>-0.009731</td>\n",
       "      <td>-1.012103</td>\n",
       "      <td>1.713468</td>\n",
       "      <td>5.0</td>\n",
       "      <td>3.0</td>\n",
       "    </tr>\n",
       "    <tr>\n",
       "      <th>2013-01-05</th>\n",
       "      <td>-0.044049</td>\n",
       "      <td>-0.351983</td>\n",
       "      <td>0.045208</td>\n",
       "      <td>5.0</td>\n",
       "      <td>4.0</td>\n",
       "    </tr>\n",
       "    <tr>\n",
       "      <th>2013-01-06</th>\n",
       "      <td>-0.132429</td>\n",
       "      <td>-0.334470</td>\n",
       "      <td>-0.899580</td>\n",
       "      <td>5.0</td>\n",
       "      <td>5.0</td>\n",
       "    </tr>\n",
       "  </tbody>\n",
       "</table>\n",
       "</div>"
      ]
     },
     "execution_count": 65,
     "metadata": {},
     "output_type": "execute_result"
    }
   ],
   "execution_count": 65
  }
 ],
 "metadata": {
  "kernelspec": {
   "display_name": "Python 3",
   "language": "python",
   "name": "python3"
  },
  "language_info": {
   "codemirror_mode": {
    "name": "ipython",
    "version": 2
   },
   "file_extension": ".py",
   "mimetype": "text/x-python",
   "name": "python",
   "nbconvert_exporter": "python",
   "pygments_lexer": "ipython2",
   "version": "2.7.6"
  }
 },
 "nbformat": 4,
 "nbformat_minor": 5
}
