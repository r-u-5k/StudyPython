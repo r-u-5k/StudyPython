{
 "cells": [
  {
   "cell_type": "code",
   "execution_count": 19,
   "metadata": {},
   "outputs": [],
   "source": [
    "import pandas as pd\n",
    "\n",
    "\n",
    "data = [100, 200, 300]\n",
    "index = [\"월\", \"화\", \"수\"]\n",
    "s = pd.Series(data=data, index=index)"
   ]
  },
  {
   "cell_type": "code",
   "execution_count": 20,
   "metadata": {},
   "outputs": [
    {
     "name": "stdout",
     "output_type": "stream",
     "text": [
      "월    100\n",
      "화    200\n",
      "dtype: int64\n",
      "월    100\n",
      "화    200\n",
      "dtype: int64\n"
     ]
    }
   ],
   "source": [
    "print(s.iloc[0:2])\n",
    "print(s.loc[\"월\":\"화\"])"
   ]
  },
  {
   "cell_type": "code",
   "execution_count": 21,
   "metadata": {},
   "outputs": [
    {
     "name": "stdout",
     "output_type": "stream",
     "text": [
      "월    100\n",
      "수    300\n",
      "dtype: int64\n",
      "월    100\n",
      "수    300\n",
      "dtype: int64\n"
     ]
    }
   ],
   "source": [
    "print(s.iloc[[0, 2]])\n",
    "print(s.loc[[\"월\", \"수\"]])"
   ]
  },
  {
   "cell_type": "code",
   "execution_count": 22,
   "metadata": {},
   "outputs": [
    {
     "name": "stdout",
     "output_type": "stream",
     "text": [
      "월    100\n",
      "화    200\n",
      "수    300\n",
      "목    400\n",
      "dtype: int64\n"
     ]
    }
   ],
   "source": [
    "s.loc[\"목\"] = 400 # Series에 값 추가\n",
    "print(s)"
   ]
  },
  {
   "cell_type": "code",
   "execution_count": 23,
   "metadata": {},
   "outputs": [
    {
     "name": "stdout",
     "output_type": "stream",
     "text": [
      "화    200\n",
      "목    400\n",
      "dtype: int64\n"
     ]
    }
   ],
   "source": [
    "s1 = s.drop([\"월\", \"수\"])\n",
    "# 원본 Series에서 값 삭제된 객체 리턴, 원본은 유지\n",
    "print(s1)"
   ]
  },
  {
   "cell_type": "code",
   "execution_count": 24,
   "metadata": {},
   "outputs": [
    {
     "name": "stdout",
     "output_type": "stream",
     "text": [
      "월    123\n",
      "화    200\n",
      "수    300\n",
      "목    400\n",
      "dtype: int64\n"
     ]
    }
   ],
   "source": [
    "s.iloc[0] = 123 # Series의 값 수정\n",
    "print(s)"
   ]
  }
 ],
 "metadata": {
  "kernelspec": {
   "display_name": "Python 3",
   "language": "python",
   "name": "python3"
  },
  "language_info": {
   "codemirror_mode": {
    "name": "ipython",
    "version": 3
   },
   "file_extension": ".py",
   "mimetype": "text/x-python",
   "name": "python",
   "nbconvert_exporter": "python",
   "pygments_lexer": "ipython3",
   "version": "3.12.5"
  }
 },
 "nbformat": 4,
 "nbformat_minor": 2
}
