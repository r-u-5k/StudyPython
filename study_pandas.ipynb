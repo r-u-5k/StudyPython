{
 "cells": [
  {
   "cell_type": "code",
   "execution_count": 1,
   "metadata": {},
   "outputs": [],
   "source": [
    "import pandas as pd\n",
    "\n",
    "\n",
    "data = [100, 200, 300]\n",
    "index = [\"월\", \"화\", \"수\"]\n",
    "s = pd.Series(data=data, index=index)"
   ]
  },
  {
   "cell_type": "code",
   "execution_count": 2,
   "metadata": {},
   "outputs": [
    {
     "name": "stdout",
     "output_type": "stream",
     "text": [
      "월    100\n",
      "화    200\n",
      "dtype: int64\n",
      "월    100\n",
      "화    200\n",
      "dtype: int64\n"
     ]
    }
   ],
   "source": [
    "print(s.iloc[0:2])\n",
    "print(s.loc[\"월\":\"화\"])"
   ]
  },
  {
   "cell_type": "code",
   "execution_count": 3,
   "metadata": {},
   "outputs": [
    {
     "name": "stdout",
     "output_type": "stream",
     "text": [
      "월    100\n",
      "수    300\n",
      "dtype: int64\n",
      "월    100\n",
      "수    300\n",
      "dtype: int64\n"
     ]
    }
   ],
   "source": [
    "print(s.iloc[[0, 2]])\n",
    "print(s.loc[[\"월\", \"수\"]])"
   ]
  },
  {
   "cell_type": "code",
   "execution_count": 4,
   "metadata": {},
   "outputs": [
    {
     "name": "stdout",
     "output_type": "stream",
     "text": [
      "월    100\n",
      "화    200\n",
      "수    300\n",
      "목    400\n",
      "dtype: int64\n"
     ]
    }
   ],
   "source": [
    "s.loc[\"목\"] = 400 # Series에 값 추가\n",
    "print(s)"
   ]
  },
  {
   "cell_type": "code",
   "execution_count": 5,
   "metadata": {},
   "outputs": [
    {
     "name": "stdout",
     "output_type": "stream",
     "text": [
      "화    200\n",
      "목    400\n",
      "dtype: int64\n"
     ]
    }
   ],
   "source": [
    "s1 = s.drop([\"월\", \"수\"])\n",
    "# 원본 Series에서 값 삭제된 객체 리턴, 원본은 유지\n",
    "print(s1)"
   ]
  },
  {
   "cell_type": "code",
   "execution_count": 6,
   "metadata": {},
   "outputs": [
    {
     "name": "stdout",
     "output_type": "stream",
     "text": [
      "월    123\n",
      "화    200\n",
      "수    300\n",
      "목    400\n",
      "dtype: int64\n"
     ]
    }
   ],
   "source": [
    "s.iloc[0] = 123 # Series의 값 수정\n",
    "print(s)"
   ]
  },
  {
   "cell_type": "code",
   "execution_count": 7,
   "metadata": {},
   "outputs": [
    {
     "name": "stdout",
     "output_type": "stream",
     "text": [
      "          종가     PER   PBR\n",
      "네이버   157000   39.88  4.38\n",
      "삼성전자   51300    8.52  1.45\n",
      "LG전자   68800   10.03  0.87\n",
      "카카오   140000  228.38  2.16\n"
     ]
    }
   ],
   "source": [
    "data = {\n",
    "    \"종가\": [157000, 51300, 68800, 140000],\n",
    "    \"PER\": [39.88, 8.52, 10.03, 228.38],\n",
    "    \"PBR\": [4.38, 1.45, 0.87, 2.16]\n",
    "}\n",
    "\n",
    "index = [\"네이버\", \"삼성전자\", \"LG전자\", \"카카오\"]\n",
    "\n",
    "df = pd.DataFrame(data=data,index=index)\n",
    "print(df)"
   ]
  }
 ],
 "metadata": {
  "kernelspec": {
   "display_name": "Python 3",
   "language": "python",
   "name": "python3"
  },
  "language_info": {
   "codemirror_mode": {
    "name": "ipython",
    "version": 3
   },
   "file_extension": ".py",
   "mimetype": "text/x-python",
   "name": "python",
   "nbconvert_exporter": "python",
   "pygments_lexer": "ipython3",
   "version": "3.12.4"
  }
 },
 "nbformat": 4,
 "nbformat_minor": 2
}
