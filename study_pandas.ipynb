{
 "cells": [
  {
   "cell_type": "code",
   "execution_count": 48,
   "metadata": {},
   "outputs": [],
   "source": [
    "import pandas as pd\n",
    "\n",
    "\n",
    "data = [100, 200, 300]\n",
    "index = [\"월\", \"화\", \"수\"]\n",
    "s = pd.Series(data=data, index=index)"
   ]
  },
  {
   "cell_type": "code",
   "execution_count": 49,
   "metadata": {},
   "outputs": [
    {
     "name": "stdout",
     "output_type": "stream",
     "text": [
      "월    100\n",
      "화    200\n",
      "dtype: int64\n",
      "월    100\n",
      "화    200\n",
      "dtype: int64\n"
     ]
    }
   ],
   "source": [
    "print(s.iloc[0:2])\n",
    "print(s.loc[\"월\":\"화\"])"
   ]
  },
  {
   "cell_type": "code",
   "execution_count": 50,
   "metadata": {},
   "outputs": [
    {
     "name": "stdout",
     "output_type": "stream",
     "text": [
      "월    100\n",
      "수    300\n",
      "dtype: int64\n",
      "월    100\n",
      "수    300\n",
      "dtype: int64\n"
     ]
    }
   ],
   "source": [
    "print(s.iloc[[0, 2]])\n",
    "print(s.loc[[\"월\", \"수\"]])"
   ]
  },
  {
   "cell_type": "code",
   "execution_count": 51,
   "metadata": {},
   "outputs": [
    {
     "name": "stdout",
     "output_type": "stream",
     "text": [
      "월    100\n",
      "화    200\n",
      "수    300\n",
      "목    400\n",
      "dtype: int64\n"
     ]
    }
   ],
   "source": [
    "s.loc[\"목\"] = 400 # Series에 값 추가\n",
    "print(s)"
   ]
  },
  {
   "cell_type": "code",
   "execution_count": 52,
   "metadata": {},
   "outputs": [
    {
     "name": "stdout",
     "output_type": "stream",
     "text": [
      "화    200\n",
      "목    400\n",
      "dtype: int64\n"
     ]
    }
   ],
   "source": [
    "s1 = s.drop([\"월\", \"수\"])\n",
    "# 원본 Series에서 값 삭제된 객체 리턴, 원본은 유지\n",
    "print(s1)"
   ]
  },
  {
   "cell_type": "code",
   "execution_count": 53,
   "metadata": {},
   "outputs": [
    {
     "name": "stdout",
     "output_type": "stream",
     "text": [
      "월    123\n",
      "화    200\n",
      "수    300\n",
      "목    400\n",
      "dtype: int64\n"
     ]
    }
   ],
   "source": [
    "s.iloc[0] = 123 # Series의 값 수정\n",
    "print(s)"
   ]
  },
  {
   "cell_type": "code",
   "execution_count": 54,
   "metadata": {
    "jupyter": {
     "is_executing": true
    }
   },
   "outputs": [
    {
     "name": "stdout",
     "output_type": "stream",
     "text": [
      "          종가     PER   PBR\n",
      "네이버   157000   39.88  4.38\n",
      "삼성전자   51300    8.52  1.45\n",
      "LG전자   68800   10.03  0.87\n",
      "카카오   140000  228.38  2.16\n"
     ]
    }
   ],
   "source": [
    "# DataFrame 생성 (1/3)\n",
    "# 2차원 표에서 컬럼 단위로 데이터를 표현\n",
    "data = {\n",
    "    \"종가\": [157000, 51300, 68800, 140000],\n",
    "    \"PER\": [39.88, 8.52, 10.03, 228.38],\n",
    "    \"PBR\": [4.38, 1.45, 0.87, 2.16]\n",
    "}\n",
    "\n",
    "index = ['네이버', '삼성전자', 'LG전자', '카카오']\n",
    "\n",
    "df = pd.DataFrame(data, index)\n",
    "print(df)"
   ]
  },
  {
   "cell_type": "code",
   "execution_count": 55,
   "metadata": {},
   "outputs": [
    {
     "name": "stdout",
     "output_type": "stream",
     "text": [
      "          종가     PER   PBR\n",
      "네이버   157000   39.88  4.38\n",
      "삼성전자   51300    8.52  1.45\n",
      "LG전자   68800   10.03  0.87\n",
      "카카오   140000  228.38  2.16\n"
     ]
    }
   ],
   "source": [
    "# DataFrame 생성 (2/3)\n",
    "# 2차원 표에서 로우 단위로 데이터를 표현\n",
    "data = [\n",
    "    [157000, 39.88, 4.38],\n",
    "    [51300, 8.52, 1.45],\n",
    "    [68800, 10.03, 0.87],\n",
    "    [140000, 228.38, 2.16]\n",
    "]\n",
    "\n",
    "index = ['네이버', '삼성전자', 'LG전자', '카카오']\n",
    "columns = ['종가', 'PER', 'PBR']\n",
    "\n",
    "df = pd.DataFrame(data=data, index=index, columns=columns)\n",
    "print(df)"
   ]
  },
  {
   "cell_type": "code",
   "execution_count": 56,
   "metadata": {},
   "outputs": [
    {
     "name": "stdout",
     "output_type": "stream",
     "text": [
      "          종가     PER   PBR\n",
      "네이버   157000   39.88  4.38\n",
      "삼성전자   51300    8.52  1.45\n",
      "LG전자   68800   10.03  0.87\n",
      "카카오   140000  228.38  2.16\n"
     ]
    }
   ],
   "source": [
    "# DataFrame 생성 (3/3)\n",
    "# 2차원 표에서 로우 단위로 데이터를 딕셔너리로 표현\n",
    "data = [\n",
    "    {\"종가\": 157000, \"PER\": 39.88, \"PBR\": 4.38},\n",
    "    {\"종가\": 51300, \"PER\": 8.52, \"PBR\": 1.45},\n",
    "    {\"종가\": 68800, \"PER\": 10.03, \"PBR\": 0.87},\n",
    "    {\"종가\": 140000, \"PER\": 228.38, \"PBR\": 2.16}\n",
    "]\n",
    "\n",
    "index = ['네이버', '삼성전자', 'LG전자', '카카오']\n",
    "\n",
    "df = pd.DataFrame(data=data, index=index)\n",
    "print(df)"
   ]
  },
  {
   "cell_type": "code",
   "execution_count": 57,
   "metadata": {},
   "outputs": [
    {
     "name": "stdout",
     "output_type": "stream",
     "text": [
      "       시가   고가   저가   종가\n",
      "비트코인  980  990  920  930\n",
      "리플    200  300  180  180\n",
      "이더리움  300  500  300  400\n"
     ]
    }
   ],
   "source": [
    "data = [\n",
    "    [980, 990, 920, 930],\n",
    "    [200, 300, 180, 180],\n",
    "    [300, 500, 300, 400]\n",
    "]\n",
    "\n",
    "index = ['비트코인', '리플', '이더리움']\n",
    "\n",
    "columns = ['시가', '고가', '저가', '종가']\n",
    "\n",
    "df = pd.DataFrame(data=data, index=index, columns=columns)\n",
    "print(df)"
   ]
  },
  {
   "cell_type": "code",
   "execution_count": 58,
   "metadata": {},
   "outputs": [
    {
     "name": "stdout",
     "output_type": "stream",
     "text": [
      "       시가   고가   저가   종가\n",
      "비트코인  980  990  920  930\n",
      "리플    200  300  180  180\n",
      "이더리움  300  500  300  400\n"
     ]
    }
   ],
   "source": [
    "data = {\n",
    "    \"시가\": [980, 200, 300],\n",
    "    \"고가\": [990, 300, 500],\n",
    "    \"저가\": [920, 180, 300],\n",
    "    \"종가\": [930, 180, 400]\n",
    "}\n",
    "\n",
    "index = ['비트코인', '리플', '이더리움']\n",
    "\n",
    "df = pd.DataFrame(data=data, index=index)\n",
    "print(df)"
   ]
  },
  {
   "cell_type": "code",
   "execution_count": 59,
   "metadata": {},
   "outputs": [
    {
     "name": "stdout",
     "output_type": "stream",
     "text": [
      "          종가     PER   PBR\n",
      "네이버   157000   39.88  4.38\n",
      "삼성전자   51300    8.52  1.45\n",
      "LG전자   68800   10.03  0.87\n",
      "카카오   140000  228.38  2.16\n",
      "\n",
      "네이버     157000\n",
      "삼성전자     51300\n",
      "LG전자     68800\n",
      "카카오     140000\n",
      "Name: 종가, dtype: int64\n",
      "\n",
      "네이버      39.88\n",
      "삼성전자      8.52\n",
      "LG전자     10.03\n",
      "카카오     228.38\n",
      "Name: PER, dtype: float64\n",
      "\n",
      "         PER   PBR\n",
      "네이버    39.88  4.38\n",
      "삼성전자    8.52  1.45\n",
      "LG전자   10.03  0.87\n",
      "카카오   228.38  2.16\n"
     ]
    }
   ],
   "source": [
    "data = {\n",
    "    \"종가\": [157000, 51300, 68800, 140000],\n",
    "    \"PER\": [39.88, 8.52, 10.03, 228.38],\n",
    "    \"PBR\": [4.38, 1.45, 0.87, 2.16]\n",
    "}\n",
    "\n",
    "index = ['네이버', '삼성전자', 'LG전자', '카카오']\n",
    "\n",
    "df = pd.DataFrame(data, index)\n",
    "print(df)\n",
    "print()\n",
    "\n",
    "# 로우 선택\n",
    "print(df['종가'])\n",
    "print()\n",
    "print(df['PER'])\n",
    "print()\n",
    "\n",
    "# 멀티 로우 선택\n",
    "print(df[['PER', 'PBR']])"
   ]
  },
  {
   "cell_type": "code",
   "execution_count": 60,
   "metadata": {},
   "outputs": [
    {
     "name": "stdout",
     "output_type": "stream",
     "text": [
      "          종가     PER   PBR\n",
      "네이버   157000   39.88  4.38\n",
      "삼성전자   51300    8.52  1.45\n",
      "LG전자   68800   10.03  0.87\n",
      "카카오   140000  228.38  2.16\n",
      "\n",
      "종가     51300.00\n",
      "PER        8.52\n",
      "PBR        1.45\n",
      "Name: 삼성전자, dtype: float64\n",
      "\n",
      "종가     51300.00\n",
      "PER        8.52\n",
      "PBR        1.45\n",
      "Name: 삼성전자, dtype: float64\n",
      "\n",
      "          종가    PER   PBR\n",
      "네이버   157000  39.88  4.38\n",
      "LG전자   68800  10.03  0.87\n",
      "\n",
      "          종가    PER   PBR\n",
      "네이버   157000  39.88  4.38\n",
      "LG전자   68800  10.03  0.87\n"
     ]
    }
   ],
   "source": [
    "data = {\n",
    "    \"종가\": [157000, 51300, 68800, 140000],\n",
    "    \"PER\": [39.88, 8.52, 10.03, 228.38],\n",
    "    \"PBR\": [4.38, 1.45, 0.87, 2.16]\n",
    "}\n",
    "\n",
    "index = ['네이버', '삼성전자', 'LG전자', '카카오']\n",
    "\n",
    "df = pd.DataFrame(data, index)\n",
    "print(df)\n",
    "print()\n",
    "\n",
    "# 로우 선택\n",
    "print(df.iloc[1])\n",
    "print()\n",
    "print(df.loc['삼성전자'])\n",
    "print()\n",
    "\n",
    "# 멀티 로우 선택\n",
    "print(df.iloc[[0, 2]])\n",
    "print()\n",
    "print(df.loc[['네이버', 'LG전자']])\n"
   ]
  },
  {
   "cell_type": "code",
   "execution_count": 61,
   "metadata": {},
   "outputs": [
    {
     "name": "stdout",
     "output_type": "stream",
     "text": [
      "          종가     PER   PBR\n",
      "네이버   157000   39.88  4.38\n",
      "삼성전자   51300    8.52  1.45\n",
      "LG전자   68800   10.03  0.87\n",
      "카카오   140000  228.38  2.16\n",
      "\n",
      "          종가    PER   PBR\n",
      "네이버   157000  39.88  4.38\n",
      "삼성전자   51300   8.52  1.45\n",
      "\n",
      "          종가    PER   PBR\n",
      "네이버   157000  39.88  4.38\n",
      "삼성전자   51300   8.52  1.45\n",
      "LG전자   68800  10.03  0.87\n"
     ]
    }
   ],
   "source": [
    "data = {\n",
    "    \"종가\": [157000, 51300, 68800, 140000],\n",
    "    \"PER\": [39.88, 8.52, 10.03, 228.38],\n",
    "    \"PBR\": [4.38, 1.45, 0.87, 2.16]\n",
    "}\n",
    "\n",
    "index = ['네이버', '삼성전자', 'LG전자', '카카오']\n",
    "\n",
    "df = pd.DataFrame(data, index)\n",
    "print(df)\n",
    "print()\n",
    "\n",
    "# 로우 슬라이싱\n",
    "print(df.iloc[0:2]) # 인덱스 0부터 1까지 출력\n",
    "print()\n",
    "print(df.loc['네이버':'LG전자']) # LG전자 포함 출력\n"
   ]
  }
 ],
 "metadata": {
  "kernelspec": {
   "display_name": "Python 3",
   "language": "python",
   "name": "python3"
  },
  "language_info": {
   "codemirror_mode": {
    "name": "ipython",
    "version": 3
   },
   "file_extension": ".py",
   "mimetype": "text/x-python",
   "name": "python",
   "nbconvert_exporter": "python",
   "pygments_lexer": "ipython3",
   "version": "3.12.6"
  }
 },
 "nbformat": 4,
 "nbformat_minor": 2
}
