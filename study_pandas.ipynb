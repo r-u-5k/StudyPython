{
 "cells": [
  {
   "cell_type": "code",
   "execution_count": 53,
   "metadata": {},
   "outputs": [],
   "source": [
    "import pandas as pd\n",
    "\n",
    "\n",
    "data = [100, 200, 300]\n",
    "index = [\"월\", \"화\", \"수\"]\n",
    "s = pd.Series(data=data, index=index)"
   ]
  },
  {
   "cell_type": "code",
   "execution_count": 54,
   "metadata": {},
   "outputs": [
    {
     "data": {
      "text/plain": [
       "월    100\n",
       "화    200\n",
       "dtype: int64"
      ]
     },
     "execution_count": 54,
     "metadata": {},
     "output_type": "execute_result"
    }
   ],
   "source": [
    "s.iloc[0:2]\n",
    "s.loc[\"월\":\"화\"]\n",
    "# 월    100\n",
    "# 화    200"
   ]
  },
  {
   "cell_type": "code",
   "execution_count": 55,
   "metadata": {},
   "outputs": [
    {
     "data": {
      "text/plain": [
       "월    100\n",
       "수    300\n",
       "dtype: int64"
      ]
     },
     "execution_count": 55,
     "metadata": {},
     "output_type": "execute_result"
    }
   ],
   "source": [
    "s.iloc[[0, 2]]\n",
    "s.loc[[\"월\", \"수\"]]\n",
    "# 월    100\n",
    "# 수    300"
   ]
  },
  {
   "cell_type": "code",
   "execution_count": 56,
   "metadata": {},
   "outputs": [
    {
     "data": {
      "text/plain": [
       "월    100\n",
       "화    200\n",
       "수    300\n",
       "목    400\n",
       "dtype: int64"
      ]
     },
     "execution_count": 56,
     "metadata": {},
     "output_type": "execute_result"
    }
   ],
   "source": [
    "s.loc[\"목\"] = 400 # Series에 값 추가\n",
    "# s[\"금\"] = 400\n",
    "s\n",
    "# 월    123\n",
    "# 화    200\n",
    "# 수    300\n",
    "# 목    400"
   ]
  },
  {
   "cell_type": "code",
   "execution_count": 57,
   "metadata": {},
   "outputs": [
    {
     "name": "stdout",
     "output_type": "stream",
     "text": [
      "화    200\n",
      "목    400\n",
      "dtype: int64\n"
     ]
    }
   ],
   "source": [
    "s1 = s.drop([\"월\", \"수\"])\n",
    "# 원본 Series에서 값 삭제된 객체 리턴, 원본은 유지\n",
    "print(s1)\n",
    "# 화    200\n",
    "# 목    400"
   ]
  },
  {
   "cell_type": "code",
   "execution_count": 58,
   "metadata": {},
   "outputs": [
    {
     "data": {
      "text/plain": [
       "월    123\n",
       "화    200\n",
       "수    300\n",
       "목    400\n",
       "dtype: int64"
      ]
     },
     "execution_count": 58,
     "metadata": {},
     "output_type": "execute_result"
    }
   ],
   "source": [
    "s.iloc[0] = 123 # Series의 값 변경\n",
    "# s.loc[\"월\"] = 123\n",
    "# s[0] = 123\n",
    "s\n",
    "# 월    123\n",
    "# 화    200\n",
    "# 수    300\n",
    "# 목    400"
   ]
  },
  {
   "cell_type": "code",
   "execution_count": 59,
   "metadata": {},
   "outputs": [
    {
     "data": {
      "text/plain": [
       "월    123\n",
       "화    200\n",
       "수    300\n",
       "목    400\n",
       "금    500\n",
       "dtype: int64"
      ]
     },
     "execution_count": 59,
     "metadata": {},
     "output_type": "execute_result"
    }
   ],
   "source": [
    "s.loc[\"금\"] = 500\n",
    "s\n",
    "# 월    123\n",
    "# 화    200\n",
    "# 수    300\n",
    "# 목    400\n",
    "# 금    500"
   ]
  },
  {
   "cell_type": "code",
   "execution_count": 60,
   "metadata": {},
   "outputs": [
    {
     "data": {
      "text/plain": [
       "월    123\n",
       "화    200\n",
       "수    300\n",
       "금    500\n",
       "dtype: int64"
      ]
     },
     "execution_count": 60,
     "metadata": {},
     "output_type": "execute_result"
    }
   ],
   "source": [
    "s.drop(\"목\", inplace=True) \n",
    "# Series의 값 삭제 (inplace=True 시 원본 삭제)\n",
    "s"
   ]
  },
  {
   "cell_type": "code",
   "execution_count": 63,
   "metadata": {},
   "outputs": [],
   "source": [
    "import pandas as pd\n",
    "\n",
    "s = pd.Series([100, 200, 300])"
   ]
  },
  {
   "cell_type": "code",
   "execution_count": 64,
   "metadata": {},
   "outputs": [
    {
     "data": {
      "text/plain": [
       "0    110\n",
       "1    210\n",
       "2    310\n",
       "dtype: int64"
      ]
     },
     "execution_count": 64,
     "metadata": {},
     "output_type": "execute_result"
    }
   ],
   "source": [
    "s+10\n",
    "# 연산이 Series 객체의 전체 값에 적용됨\n",
    "# 0    110\n",
    "# 1    210\n",
    "# 2    310"
   ]
  },
  {
   "cell_type": "code",
   "execution_count": 66,
   "metadata": {},
   "outputs": [
    {
     "name": "stdout",
     "output_type": "stream",
     "text": [
      "0    140\n",
      "1     90\n",
      "2    190\n",
      "dtype: int64\n"
     ]
    }
   ],
   "source": [
    "high = pd.Series([150, 120, 210])\n",
    "low = pd.Series([10, 30, 20])\n",
    "diff = high - low\n",
    "print(diff)\n",
    "# 0    140\n",
    "# 1     90\n",
    "# 2    190"
   ]
  },
  {
   "cell_type": "code",
   "execution_count": 70,
   "metadata": {},
   "outputs": [
    {
     "data": {
      "text/plain": [
       "0    False\n",
       "1    False\n",
       "2    False\n",
       "3     True\n",
       "4     True\n",
       "dtype: bool"
      ]
     },
     "execution_count": 70,
     "metadata": {},
     "output_type": "execute_result"
    }
   ],
   "source": [
    "s = pd.Series([100, 200, 300, 400, 500])\n",
    "cond = s > 300\n",
    "print(cond)\n",
    "# 0    False\n",
    "# 1    False\n",
    "# 2    False\n",
    "# 3     True\n",
    "# 4     True"
   ]
  },
  {
   "cell_type": "code",
   "execution_count": 69,
   "metadata": {},
   "outputs": [
    {
     "name": "stdout",
     "output_type": "stream",
     "text": [
      "3    400\n",
      "4    500\n",
      "dtype: int64\n"
     ]
    }
   ],
   "source": [
    "cond = s > 300 # True or False\n",
    "print(s[cond])\n",
    "# True인 데이터만 출력됨\n",
    "# 3    400\n",
    "# 4    500"
   ]
  },
  {
   "cell_type": "code",
   "execution_count": 73,
   "metadata": {},
   "outputs": [
    {
     "name": "stdout",
     "output_type": "stream",
     "text": [
      "1    300\n",
      "2    400\n",
      "3    500\n",
      "dtype: int64\n"
     ]
    }
   ],
   "source": [
    "# 고가와 저가 차이가 100 이상인 날의 고가 출력\n",
    "low = pd.Series([10, 200, 200, 400, 600])\n",
    "high = pd.Series([100, 300, 400, 500, 600])\n",
    "gap = high - low\n",
    "\n",
    "cond = gap >= 100\n",
    "print(high[cond])"
   ]
  },
  {
   "cell_type": "code",
   "execution_count": 80,
   "metadata": {},
   "outputs": [
    {
     "name": "stdout",
     "output_type": "stream",
     "text": [
      "Index(['05/15', '05/17'], dtype='object')\n",
      "05/15\n",
      "05/17\n"
     ]
    }
   ],
   "source": [
    "# 종가가 80000원이상 90000원 미만인 날짜 출력\n",
    "data = [93000, 82400, 99100, 81000, 72300]\n",
    "index = [\"05/14\", \"05/15\", \"05/16\", \"05/17\", \"05/18\"]\n",
    "endPrice = pd.Series(data=data, index=index)\n",
    "\n",
    "cond = (endPrice >= 80000) & (endPrice < 90000)\n",
    "print(endPrice[cond].index)\n",
    "# Index(['05/15', '05/17'], dtype='object')\n",
    "\n",
    "for date in endPrice[cond].index:\n",
    "    print(date)\n",
    "# 05/15\n",
    "# 05/17"
   ]
  }
 ],
 "metadata": {
  "kernelspec": {
   "display_name": "Python 3",
   "language": "python",
   "name": "python3"
  },
  "language_info": {
   "codemirror_mode": {
    "name": "ipython",
    "version": 3
   },
   "file_extension": ".py",
   "mimetype": "text/x-python",
   "name": "python",
   "nbconvert_exporter": "python",
   "pygments_lexer": "ipython3",
   "version": "3.12.5"
  }
 },
 "nbformat": 4,
 "nbformat_minor": 2
}
